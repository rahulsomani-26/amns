{
 "cells": [
  {
   "cell_type": "code",
   "execution_count": 1,
   "id": "2eea016b-1cbc-4320-80ad-4a979294258a",
   "metadata": {},
   "outputs": [],
   "source": [
    "import threading\n",
    "import time "
   ]
  },
  {
   "cell_type": "code",
   "execution_count": 2,
   "id": "3dea7170-10eb-4885-8d51-4f1a7c657cc5",
   "metadata": {},
   "outputs": [
    {
     "data": {
      "text/plain": [
       "1707284420.647882"
      ]
     },
     "execution_count": 2,
     "metadata": {},
     "output_type": "execute_result"
    }
   ],
   "source": [
    "time.time()"
   ]
  },
  {
   "cell_type": "code",
   "execution_count": 4,
   "id": "2edbfb12-a837-4527-bf84-638c83fccd86",
   "metadata": {},
   "outputs": [
    {
     "name": "stdout",
     "output_type": "stream",
     "text": [
      "Total Time taken = 20.579651832580566 secs\n"
     ]
    }
   ],
   "source": [
    "start = time.time()\n",
    "for _ in range(799999978):\n",
    "    pass \n",
    "end = time.time()\n",
    "print(f'Total Time taken = {end-start} secs')"
   ]
  },
  {
   "cell_type": "code",
   "execution_count": 5,
   "id": "9f40046c-15f4-456c-986c-e283b3796539",
   "metadata": {},
   "outputs": [],
   "source": [
    "def print_numbers():\n",
    "    for i in range(5):\n",
    "        time.sleep(1)\n",
    "        print(f'Thread 1:{i}')\n",
    "\n",
    "def print_letters():\n",
    "    for letter in 'ABCDE':\n",
    "        time.sleep(1)\n",
    "        print(f'Thread 2: {letter}')"
   ]
  },
  {
   "cell_type": "code",
   "execution_count": 6,
   "id": "c072bbaf-3744-4500-92c7-5d21ef63c2a9",
   "metadata": {},
   "outputs": [],
   "source": [
    "# Creating the threads \n",
    "\n",
    "thread1 = threading.Thread(target=print_numbers)\n",
    "thread2 = threading.Thread(target=print_letters)\n"
   ]
  },
  {
   "cell_type": "code",
   "execution_count": 7,
   "id": "ab80a25f-2bd4-4186-aa07-502645e17a0a",
   "metadata": {},
   "outputs": [
    {
     "name": "stdout",
     "output_type": "stream",
     "text": [
      "Thread 1:0Thread 2: A\n",
      "\n",
      "Thread 2: B\n",
      "Thread 1:1\n",
      "Thread 2: C\n",
      "Thread 1:2\n",
      "Thread 2: D\n",
      "Thread 1:3\n",
      "Thread 2: E\n",
      "Thread 1:4\n"
     ]
    }
   ],
   "source": [
    "# Start the threads \n",
    "\n",
    "thread1.start()\n",
    "thread2.start()"
   ]
  },
  {
   "cell_type": "code",
   "execution_count": 9,
   "id": "265e957a-6beb-4633-8245-9b66deadb803",
   "metadata": {},
   "outputs": [
    {
     "name": "stdout",
     "output_type": "stream",
     "text": [
      "Thread 2: AThread 1:0\n",
      "\n",
      "Thread 1:1\n",
      "Thread 2: B\n",
      "Thread 1:2\n",
      "Thread 2: C\n",
      "Thread 1:3\n",
      "Thread 2: D\n",
      "Thread 1:4\n",
      "Thread 2: E\n"
     ]
    }
   ],
   "source": [
    "def print_numbers():\n",
    "    for i in range(5):\n",
    "        time.sleep(1)\n",
    "        print(f'Thread 1:{i}')\n",
    "\n",
    "def print_letters():\n",
    "    for letter in 'ABCDE':\n",
    "        time.sleep(1)\n",
    "        print(f'Thread 2: {letter}')\n",
    "\n",
    "\n",
    "thread1 = threading.Thread(target=print_numbers)\n",
    "thread2 = threading.Thread(target=print_letters)\n",
    "\n",
    "thread1.start()\n",
    "thread2.start()\n",
    "\n",
    "thread1.join()\n",
    "thread2.join()"
   ]
  },
  {
   "cell_type": "markdown",
   "id": "39c34fa4-cf61-426d-9414-76d4ab39c58d",
   "metadata": {},
   "source": [
    "# Web Scraping with thread "
   ]
  },
  {
   "cell_type": "code",
   "execution_count": 11,
   "id": "0dc0442f-58e9-4b04-ac87-35785f1353af",
   "metadata": {},
   "outputs": [],
   "source": [
    "import threading\n",
    "import requests"
   ]
  },
  {
   "cell_type": "code",
   "execution_count": 12,
   "id": "855519bc-6bae-4e64-8e64-9db517d37858",
   "metadata": {},
   "outputs": [
    {
     "name": "stdout",
     "output_type": "stream",
     "text": [
      "Collecting bs4\n",
      "  Downloading bs4-0.0.2-py2.py3-none-any.whl.metadata (411 bytes)\n",
      "Requirement already satisfied: beautifulsoup4 in c:\\users\\soman\\appdata\\local\\programs\\python\\python311\\lib\\site-packages (from bs4) (4.12.2)\n",
      "Requirement already satisfied: soupsieve>1.2 in c:\\users\\soman\\appdata\\local\\programs\\python\\python311\\lib\\site-packages (from beautifulsoup4->bs4) (2.5)\n",
      "Downloading bs4-0.0.2-py2.py3-none-any.whl (1.2 kB)\n",
      "Installing collected packages: bs4\n",
      "Successfully installed bs4-0.0.2\n",
      "Note: you may need to restart the kernel to use updated packages.\n"
     ]
    },
    {
     "name": "stderr",
     "output_type": "stream",
     "text": [
      "\n",
      "[notice] A new release of pip is available: 23.3.1 -> 24.0\n",
      "[notice] To update, run: C:\\Users\\soman\\AppData\\Local\\Programs\\Python\\Python311\\python.exe -m pip install --upgrade pip\n"
     ]
    }
   ],
   "source": [
    "pip install bs4"
   ]
  },
  {
   "cell_type": "code",
   "execution_count": 15,
   "id": "bc4374ed-ce90-4324-98d7-224ad09224de",
   "metadata": {},
   "outputs": [],
   "source": [
    "import threading\n",
    "import requests\n",
    "from bs4 import BeautifulSoup\n",
    "\n",
    "url = 'https://automatetheboringstuff.com/'\n",
    "result = []\n",
    "\n",
    "def fetch_data(start,end):\n",
    "    pass\n",
    "    \n"
   ]
  },
  {
   "cell_type": "code",
   "execution_count": 16,
   "id": "5ba84c60-e665-4596-b05e-c8b6440a6642",
   "metadata": {},
   "outputs": [],
   "source": [
    "response = requests.get(url)"
   ]
  },
  {
   "cell_type": "code",
   "execution_count": 17,
   "id": "32268371-7928-4628-baa3-56f36a731a7d",
   "metadata": {},
   "outputs": [
    {
     "data": {
      "text/plain": [
       "<Response [200]>"
      ]
     },
     "execution_count": 17,
     "metadata": {},
     "output_type": "execute_result"
    }
   ],
   "source": [
    "response"
   ]
  },
  {
   "cell_type": "code",
   "execution_count": 18,
   "id": "7555314e-e815-4298-ae2f-42002ca2a276",
   "metadata": {},
   "outputs": [
    {
     "data": {
      "text/plain": [
       "200"
      ]
     },
     "execution_count": 18,
     "metadata": {},
     "output_type": "execute_result"
    }
   ],
   "source": [
    "response.status_code"
   ]
  },
  {
   "cell_type": "code",
   "execution_count": 19,
   "id": "f8b412f0-b17c-4d20-8569-53e30e89171d",
   "metadata": {},
   "outputs": [
    {
     "name": "stdout",
     "output_type": "stream",
     "text": [
      "['__attrs__', '__bool__', '__class__', '__delattr__', '__dict__', '__dir__', '__doc__', '__enter__', '__eq__', '__exit__', '__format__', '__ge__', '__getattribute__', '__getstate__', '__gt__', '__hash__', '__init__', '__init_subclass__', '__iter__', '__le__', '__lt__', '__module__', '__ne__', '__new__', '__nonzero__', '__reduce__', '__reduce_ex__', '__repr__', '__setattr__', '__setstate__', '__sizeof__', '__str__', '__subclasshook__', '__weakref__', '_content', '_content_consumed', '_next', 'apparent_encoding', 'close', 'connection', 'content', 'cookies', 'elapsed', 'encoding', 'headers', 'history', 'is_permanent_redirect', 'is_redirect', 'iter_content', 'iter_lines', 'json', 'links', 'next', 'ok', 'raise_for_status', 'raw', 'reason', 'request', 'status_code', 'text', 'url']\n"
     ]
    }
   ],
   "source": [
    "print(dir(response))"
   ]
  },
  {
   "cell_type": "code",
   "execution_count": 20,
   "id": "a9453bf8-3a47-4f54-809a-6fde78bafcf0",
   "metadata": {},
   "outputs": [
    {
     "data": {
      "text/plain": [
       "'<!DOCTYPE html PUBLIC \"-//W3C//DTD XHTML 1.0 Transitional//EN\"\\r\\n    \"http://www.w3.org/TR/xhtml1/DTD/xhtml1-transitional.dtd\">\\r\\n\\r\\n<html lang=\"en\" xmlns=\"http://www.w3.org/1999/xhtml\" xml:lang=\"en\">\\r\\n<head>\\r\\n  <link rel=\"stylesheet\" type=\"text/css\" href=\"/automate2_website.css\" />\\r\\n  <meta charset=\"UTF-8\" />\\r\\n  <title>Automate the Boring Stuff with Python</title>\\r\\n</head>\\r\\n\\r\\n<body>\\r\\n  <header class=\"top_header\">\\r\\n  <a href=\"https://automatetheboringstuff.com/\">Home</a> | <a href=\"https://www.nostarch.com/automatestuff2\">Buy Direct from Publisher</a> | <a href=\"https://inventwithpython.com/amazon-automate2\">Buy on Amazon</a> | <a href=\"https://twitter.com/AlSweigart\">@AlSweigart</a> | <a href=\"https://www.patreon.com/AlSweigart\">Support on Patreon</a> | <a href=\"https://www.amazon.com/review/create-review/?ie=UTF8&amp;channel=glance-detail&amp;asin=1593279922\">Write a Review</a> | <form action=\"https://www.paypal.com/cgi-bin/webscr\" method=\"post\">\\r\\n            <input type=\"hidden\" name=\"cmd\" value=\"_s-xclick\"> <input type=\"hidden\" name=\"encrypted\" value=\"-----BEGIN PKCS7-----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-----END PKCS7----- \"> <input type=\"image\" src=\"https://www.paypal.com/en_US/i/btn/btn_donate_LG.gif\" border=\"0\" name=\"submit\" alt=\"PayPal - The safer, easier way to pay online!\"> <img alt=\"\" border=\"0\" src=\"https://www.paypal.com/en_US/i/scr/pixel.gif\" width=\"1\" height=\"1\" hidden=\"\" style=\"display: none !important;\">\\r\\n          </form>\\r\\n  </header>\\r\\n\\r\\n\\r\\n  <div class=\"main\">\\r\\n\\t<main>\\r\\n  \\r\\n\\r\\n<div>\\r\\n<h1>Automate the Boring Stuff with Python</h1>\\r\\n\\r\\n<p>By Al Sweigart. Over 500,000 copies sold. <a href=\"#toc\">Free to read</a> under a <a href=\"https://creativecommons.org/licenses/by-nc-sa/3.0/\">CC license</a>.</p>\\r\\n\\r\\n<p><center><img src=\"/images/cover_automate2_thumb.jpg\" alt=\"Cover of Automate the Boring Stuff with Python\" /></center></p>\\r\\n\\r\\n<p>\"The best part of programming is the triumph of seeing the machine do something useful. Automate the Boring Stuff with Python frames all of programming as these small triumphs; it makes the boring fun.\" <br />\\r\\n<strong>- <a href=\"https://twitter.com/hmason\">Hilary Mason</a></strong>, Data Scientist and Founder of <a href=\"http://www.fastforwardlabs.com/\">Fast Forward Labs</a></p>\\r\\n\\r\\n<p>\"I\\'m having a lot of fun breaking things and then putting them back together, and just remembering the joy of turning a set of instructions into something useful and fun, like I did when I was a kid.\" <br />\\r\\n<strong>- <a href=\"https://twitter.com/wilw\">Wil Wheaton</a></strong>, <a href=\"http://wilwheaton.net/2015/09/hello-world/\">WilWheaton.net</a></p>\\r\\n\\r\\n\\r\\n\\r\\n\\r\\n<!--\\r\\n<h2>September 2023 News Update</h2>\\r\\n\\r\\n<p>I have 2,000 free sign ups for the Automate the Boring Stuff online course available. Use codes SEP2023FREE and SEP2023FREE2, or the links below:</p>\\r\\n\\r\\n<p><center><strike>Free link #1</strike> (used up)<br />\\r\\n\\t<a href=\"https://udemy.com/course/automate/?couponCode=SEP2023FREE2\">Free link #2</a></center></p>\\r\\n-->\\r\\n\\r\\n\\r\\n\\r\\n\\r\\n\\r\\n\\r\\n<h2>Practical Programming for Total Beginners</h2>\\r\\n\\r\\n<p>If you\\'ve ever spent hours renaming files or updating hundreds of spreadsheet cells, you know how tedious tasks like these can be. But what if you could have your computer do them for you?</p>\\r\\n\\r\\n<p>In <a href=\"#toc\">Automate the Boring Stuff with Python</a>, you\\'ll learn how to use Python to write programs that do in minutes what would take you hours to do by hand - no prior programming experience required. Once you\\'ve mastered the basics of programming, you\\'ll create Python programs that effortlessly perform useful and impressive feats of automation to:</p>\\r\\n\\r\\n<ul>\\r\\n<li>Search for text in a file or across multiple files</li>\\r\\n<li>Create, update, move, and rename files and folders</li>\\r\\n<li>Search the Web and download online content</li>\\r\\n<li>Update and format data in Excel spreadsheets of any size</li>\\r\\n<li>Split, merge, watermark, and encrypt PDFs</li>\\r\\n<li>Send reminder emails and text notifications</li>\\r\\n<li>Fill out online forms</li>\\r\\n</ul>\\r\\n\\r\\n<p>Step-by-step instructions walk you through each program, and practice projects at the end of each chapter challenge you to improve those programs and use your newfound skills to automate similar tasks.</p>\\r\\n<p>Don\\'t spend your time doing work a well-trained monkey could do. Even if you\\'ve never written a line of code, you can make your computer do the grunt work. Learn how in Automate the Boring Stuff with Python.</p>\\r\\n\\r\\n\\r\\n<h2 style=\"margin-top: 20px\">New Book: \"The Big Book of Small Python Projects\"</h2>\\r\\n\\r\\n<div>\\r\\n\\t<center><a href=\"https://nostarch.com/big-book-small-python-projects\"><img src=\"https://inventwithpython.com/images/cover_bigbookpython_thumb.jpg\" alt=\"Cover image of The Big Book of Small Python Projects\"/></a><br/></center>\\r\\n\\tYou\\'ve read a beginner resource like <a href=\"https://nostarch.com/automatestuff2\">Automate the Boring Stuff with Python</a> or <a href=\"https://nostarch.com/pythoncrashcourse2e\">Python Crash Course</a>, but still feel stuck when you sit down to write your own programs? <a href=\"https://nostarch.com/big-book-small-python-projects\">The Big Book of Small Python Projects</a> has 81 games, puzzles, art, simulations, and other programs designed to be simple enough for beginners to read through their code and get inspiration.\\r\\n</div>\\r\\n\\r\\n\\r\\n<div>\\r\\n<h2 style=\"margin-top: 20px\">Online Video Course on Udemy</h2>\\r\\n<center>\\r\\n<a href=\"https://inventwithpython.com/automateudemy\"><img src=\"/images/automate_udemy_course_logo.jpg\" alt=\"Udemy course logo\"></a></center><br />\\r\\nThis video course follows much (though not all) of the content of the book. <a href=\"https://inventwithpython.com/automateudemy\">Use this link to apply a 60% discount code.</a> Or preview <a href=\"https://www.youtube.com/watch?v=1F_OgqRuSdI&amp;list=PL0-84-yl1fUnRuXGFe_F7qSH1LEnn9LkW\">the first 15 course videos for free on YouTube.</a>\\r\\n</div>\\r\\n\\r\\n<a name=\"toc\"></a><h2>Table of Contents</h2>\\r\\n\\r\\n\\t\\t\\t<ul>\\r\\n\\t\\t\\t<li><a href=\"/2e/chapter0/\">Introduction</a></li>\\r\\n\\t\\t\\t<li><a href=\"/2e/chapter1/\">Chapter  1 &#8211; Python Basics</a></li>\\r\\n\\t\\t\\t<li><a href=\"/2e/chapter2/\">Chapter  2 &#8211; Flow Control</a></li>\\r\\n\\t\\t\\t<li><a href=\"/2e/chapter3/\">Chapter  3 &#8211; Functions</a></li>\\r\\n\\t\\t\\t<li><a href=\"/2e/chapter4/\">Chapter  4 &#8211; Lists</a></li>\\r\\n\\t\\t\\t<li><a href=\"/2e/chapter5/\">Chapter  5 &#8211; Dictionaries and Structuring Data</a></li>\\r\\n\\t\\t\\t<li><a href=\"/2e/chapter6/\">Chapter  6 &#8211; Manipulating Strings</a></li>\\r\\n\\t\\t\\t<li><a href=\"/2e/chapter7/\">Chapter  7 &#8211; Pattern Matching with Regular Expressions</a></li>\\r\\n\\t\\t\\t<li><a href=\"/2e/chapter8/\">Chapter  8 &#8211; Input Validation</a></li>\\r\\n\\t\\t\\t<li><a href=\"/2e/chapter9/\">Chapter  9 &#8211; Reading and Writing Files</a></li>\\r\\n\\t\\t\\t<li><a href=\"/2e/chapter10/\">Chapter 10 &#8211; Organizing Files</a></li>\\r\\n\\t\\t\\t<li><a href=\"/2e/chapter11/\">Chapter 11 &#8211; Debugging</a></li>\\r\\n\\t\\t\\t<li><a href=\"/2e/chapter12/\">Chapter 12 &#8211; Web Scraping</a></li>\\r\\n\\t\\t\\t<li><a href=\"/2e/chapter13/\">Chapter 13 &#8211; Working with Excel Spreadsheets</a></li>\\r\\n\\t\\t\\t<li><a href=\"/2e/chapter14/\">Chapter 14 &#8211; Working with Google Spreadsheets</a></li>\\r\\n\\t\\t\\t<li><a href=\"/2e/chapter15/\">Chapter 15 &#8211; Working with PDF and Word Documents</a></li>\\r\\n\\t\\t\\t<li><a href=\"/2e/chapter16/\">Chapter 16 &#8211; Working with CSV Files and JSON Data</a></li>\\r\\n\\t\\t\\t<li><a href=\"/2e/chapter17/\">Chapter 17 &#8211; Keeping Time, Scheduling Tasks, and Launching Programs</a></li>\\r\\n\\t\\t\\t<li><a href=\"/2e/chapter18/\">Chapter 18 &#8211; Sending Email and Text Messages</a></li>\\r\\n\\t\\t\\t<li><a href=\"/2e/chapter19/\">Chapter 19 &#8211; Manipulating Images</a></li>\\r\\n\\t\\t\\t<li><a href=\"/2e/chapter20/\">Chapter 20 &#8211; Controlling the Keyboard and Mouse with GUI Automation</a></li>\\r\\n\\t\\t\\t<li><a href=\"/2e/appendixa/\">Appendix A &#8211; Installing Third-Party Modules</a></li>\\r\\n\\t\\t\\t<li><a href=\"/2e/appendixb/\">Appendix B &#8211; Running Programs</a></li>\\r\\n\\t\\t\\t<li><a href=\"/2e/appendixc/\">Appendix C &#8211; Answers to the Practice Questions</a></li>\\r\\n\\t\\t\\t</ul>\\r\\n\\r\\n\\r\\n<p><a href=\"/chapter0/\">(Link to the older 1st edition.)</a></p>\\r\\n\\r\\n<h2>Additional Content</h2>\\r\\n\\r\\n\\t\\t\\t<ul>\\r\\n\\t\\t\\t<li><a href=\"https://www.nostarch.com/download/Automate_the_Boring_Stuff_onlinematerials.zip\">Download files used in the book</a></li>\\r\\n\\t\\t\\t<li><a href=\"/list-of-css-selector-tutorials.html\">List of CSS Selector Tutorials</a></li>\\r\\n\\t\\t\\t<li><a href=\"/list-of-json-apis.html\">List of JSON APIs</a></li>\\r\\n\\t\\t\\t<li><a href=\"/list-of-programming-practice-sites.html\">List of Programming Practice Sites</a></li>\\r\\n\\t\\t\\t<li><a href=\"/list-of-web-comics.html\">List of Web Comics</a></li>\\r\\n\\t\\t\\t<li><a href=\"/schedulers.html\">Schedulers for Windows, Mac, and Linux</a></li>\\r\\n\\t\\t\\t<li><a href=\"/how-to-do-pycon.html\">How to Do PyCon (or any tech conference)</a></li>\\r\\n\\t\\t\\t</ul>\\r\\n\\r\\n\\r\\n<h2>About the Author</h2>\\r\\n\\r\\n<p>Al Sweigart is a software developer and teaches programming to kids and adults. He has written several books for beginners and makes them freely available at <a href=\"https://inventwithpython.com\">InventWithPython.com</a>. His personal website is <a href=\"https://alsweigart.com\">AlSweigart.com</a>.</p>\\r\\n\\r\\n<p><a href=\"mailto:al@inventwithpython.com\">Email</a> | <a rel=\"me\" href=\"https://mastodon.social/@AlSweigart\">Mastodon</a> | <a href=\"https://twitter.com/AlSweigart\">Twitter</a> | <a href=\"https://www.twitch.tv/alsweigart\">Twitch</a> | <a href=\"https://www.youtube.com/user/Albert10110\">YouTube</a> | <a href=\"https://github.com/asweigart/\">GitHub</a> | <a href=\"https://inventwithpython.com/blog/\">Blog</a> | <a href=\"https://www.patreon.com/AlSweigart\">Patreon</a> | <a href=\"https://www.amazon.com/stores/Al-Sweigart/author/B007716TEG\">Amazon Author</a> | <a href=\"https://www.linkedin.com/in/al-sweigart-aa41703/\">LinkedIn</a></p>\\r\\n\\r\\n\\r\\n</div>\\r\\n\\r\\n  </main>\\r\\n\\r\\n\\r\\n  <footer>\\r\\n\\t  <div><br />Read the author\\'s other free programming books on <a href=\"https://inventwithpython.com\">InventWithPython.com</a>. Support the author with a purchase:<br /><a href=\"https://www.nostarch.com/automatestuff2\">Buy Direct from Publisher (Free Ebook!)</a> | <a href=\"https://inventwithpython.com/amazon-automate2\">Buy on Amazon</a></div>\\r\\n\\r\\n    <div><center>\\r\\n      <a href=\"https://automatetheboringstuff.com\"><img src=\"/images/cover_automate2_thumb.jpg\" alt=\"Automate the Boring Stuff with Python book cover thumbnail\" style=\"width: 120px\" /></a>\\r\\n\\r\\n      <a href=\"https://inventwithpython.com/bigbookpython\"><img src=\"/images/cover_bigbookpython_thumb.jpg\" alt=\"Big Book of Small Python Projects book cover thumbnail\" style=\"width: 120px\" /></a>\\r\\n\\r\\n      <a href=\"https://inventwithpython.com/beyond\"><img src=\"/images/cover_beyond_thumb.jpg\" alt=\"Beyond the Basic Stuff with Python book cover thumbnail\" style=\"width: 120px\" /></a>\\r\\n\\r\\n      <a href=\"https://turtleappstore.com/book\"><img src=\"/images/cover_codingwithminecraft_thumb.png\" alt=\"Coding with Minecraft book cover thumbnail\" style=\"width: 120px\" /></a>\\r\\n\\r\\n      <a href=\"https://inventwithpython.com/cracking/\"><img src=\"/images/cover_crackingcodes_thumb.png\" alt=\"Cracking Codes with Python book cover thumbnail\" style=\"width: 120px\" /></a>\\r\\n\\r\\n      <a href=\"https://inventwithpython.com/invent4thed\"><img src=\"/images/cover_invent4th_thumb.png\" alt=\"Invent with Python book cover thumbnail\" style=\"width: 120px\" /></a>\\r\\n\\r\\n      <a href=\"https://inventwithscratch.com/book3/\"><img src=\"/images/cover_scratch3programmingplayground_thumb.png\" alt=\"Scratch 3 Programming Playground book cover thumbnail\" style=\"width: 120px\" /></a>\\r\\n\\r\\n      <a href=\"https://inventwithpython.com/pygame/\"><img src=\"/images/cover_makinggames_thumb.png\" alt=\"Making Games with Python and Pygame book cover thumbnail\" style=\"width: 120px\" /></a>\\r\\n    </center></div>\\r\\n  </footer>\\r\\n  </div>\\r\\n\\r\\n</body>\\r\\n</html>'"
      ]
     },
     "execution_count": 20,
     "metadata": {},
     "output_type": "execute_result"
    }
   ],
   "source": [
    "response.text"
   ]
  },
  {
   "cell_type": "code",
   "execution_count": 21,
   "id": "59f4fb92-a709-4138-bd3b-bcc8d52f881a",
   "metadata": {},
   "outputs": [
    {
     "data": {
      "text/plain": [
       "str"
      ]
     },
     "execution_count": 21,
     "metadata": {},
     "output_type": "execute_result"
    }
   ],
   "source": [
    "type(response.text)"
   ]
  },
  {
   "cell_type": "code",
   "execution_count": 22,
   "id": "786395f2-3eda-49cf-9a1b-eb2cd5ae8e39",
   "metadata": {},
   "outputs": [
    {
     "data": {
      "text/plain": [
       "b'<!DOCTYPE html PUBLIC \"-//W3C//DTD XHTML 1.0 Transitional//EN\"\\r\\n    \"http://www.w3.org/TR/xhtml1/DTD/xhtml1-transitional.dtd\">\\r\\n\\r\\n<html lang=\"en\" xmlns=\"http://www.w3.org/1999/xhtml\" xml:lang=\"en\">\\r\\n<head>\\r\\n  <link rel=\"stylesheet\" type=\"text/css\" href=\"/automate2_website.css\" />\\r\\n  <meta charset=\"UTF-8\" />\\r\\n  <title>Automate the Boring Stuff with Python</title>\\r\\n</head>\\r\\n\\r\\n<body>\\r\\n  <header class=\"top_header\">\\r\\n  <a href=\"https://automatetheboringstuff.com/\">Home</a> | <a href=\"https://www.nostarch.com/automatestuff2\">Buy Direct from Publisher</a> | <a href=\"https://inventwithpython.com/amazon-automate2\">Buy on Amazon</a> | <a href=\"https://twitter.com/AlSweigart\">@AlSweigart</a> | <a href=\"https://www.patreon.com/AlSweigart\">Support on Patreon</a> | <a href=\"https://www.amazon.com/review/create-review/?ie=UTF8&amp;channel=glance-detail&amp;asin=1593279922\">Write a Review</a> | <form action=\"https://www.paypal.com/cgi-bin/webscr\" method=\"post\">\\r\\n            <input type=\"hidden\" name=\"cmd\" value=\"_s-xclick\"> <input type=\"hidden\" name=\"encrypted\" value=\"-----BEGIN PKCS7-----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-----END PKCS7----- \"> <input type=\"image\" src=\"https://www.paypal.com/en_US/i/btn/btn_donate_LG.gif\" border=\"0\" name=\"submit\" alt=\"PayPal - The safer, easier way to pay online!\"> <img alt=\"\" border=\"0\" src=\"https://www.paypal.com/en_US/i/scr/pixel.gif\" width=\"1\" height=\"1\" hidden=\"\" style=\"display: none !important;\">\\r\\n          </form>\\r\\n  </header>\\r\\n\\r\\n\\r\\n  <div class=\"main\">\\r\\n\\t<main>\\r\\n  \\r\\n\\r\\n<div>\\r\\n<h1>Automate the Boring Stuff with Python</h1>\\r\\n\\r\\n<p>By Al Sweigart. Over 500,000 copies sold. <a href=\"#toc\">Free to read</a> under a <a href=\"https://creativecommons.org/licenses/by-nc-sa/3.0/\">CC license</a>.</p>\\r\\n\\r\\n<p><center><img src=\"/images/cover_automate2_thumb.jpg\" alt=\"Cover of Automate the Boring Stuff with Python\" /></center></p>\\r\\n\\r\\n<p>\"The best part of programming is the triumph of seeing the machine do something useful. Automate the Boring Stuff with Python frames all of programming as these small triumphs; it makes the boring fun.\" <br />\\r\\n<strong>- <a href=\"https://twitter.com/hmason\">Hilary Mason</a></strong>, Data Scientist and Founder of <a href=\"http://www.fastforwardlabs.com/\">Fast Forward Labs</a></p>\\r\\n\\r\\n<p>\"I\\'m having a lot of fun breaking things and then putting them back together, and just remembering the joy of turning a set of instructions into something useful and fun, like I did when I was a kid.\" <br />\\r\\n<strong>- <a href=\"https://twitter.com/wilw\">Wil Wheaton</a></strong>, <a href=\"http://wilwheaton.net/2015/09/hello-world/\">WilWheaton.net</a></p>\\r\\n\\r\\n\\r\\n\\r\\n\\r\\n<!--\\r\\n<h2>September 2023 News Update</h2>\\r\\n\\r\\n<p>I have 2,000 free sign ups for the Automate the Boring Stuff online course available. Use codes SEP2023FREE and SEP2023FREE2, or the links below:</p>\\r\\n\\r\\n<p><center><strike>Free link #1</strike> (used up)<br />\\r\\n\\t<a href=\"https://udemy.com/course/automate/?couponCode=SEP2023FREE2\">Free link #2</a></center></p>\\r\\n-->\\r\\n\\r\\n\\r\\n\\r\\n\\r\\n\\r\\n\\r\\n<h2>Practical Programming for Total Beginners</h2>\\r\\n\\r\\n<p>If you\\'ve ever spent hours renaming files or updating hundreds of spreadsheet cells, you know how tedious tasks like these can be. But what if you could have your computer do them for you?</p>\\r\\n\\r\\n<p>In <a href=\"#toc\">Automate the Boring Stuff with Python</a>, you\\'ll learn how to use Python to write programs that do in minutes what would take you hours to do by hand - no prior programming experience required. Once you\\'ve mastered the basics of programming, you\\'ll create Python programs that effortlessly perform useful and impressive feats of automation to:</p>\\r\\n\\r\\n<ul>\\r\\n<li>Search for text in a file or across multiple files</li>\\r\\n<li>Create, update, move, and rename files and folders</li>\\r\\n<li>Search the Web and download online content</li>\\r\\n<li>Update and format data in Excel spreadsheets of any size</li>\\r\\n<li>Split, merge, watermark, and encrypt PDFs</li>\\r\\n<li>Send reminder emails and text notifications</li>\\r\\n<li>Fill out online forms</li>\\r\\n</ul>\\r\\n\\r\\n<p>Step-by-step instructions walk you through each program, and practice projects at the end of each chapter challenge you to improve those programs and use your newfound skills to automate similar tasks.</p>\\r\\n<p>Don\\'t spend your time doing work a well-trained monkey could do. Even if you\\'ve never written a line of code, you can make your computer do the grunt work. Learn how in Automate the Boring Stuff with Python.</p>\\r\\n\\r\\n\\r\\n<h2 style=\"margin-top: 20px\">New Book: \"The Big Book of Small Python Projects\"</h2>\\r\\n\\r\\n<div>\\r\\n\\t<center><a href=\"https://nostarch.com/big-book-small-python-projects\"><img src=\"https://inventwithpython.com/images/cover_bigbookpython_thumb.jpg\" alt=\"Cover image of The Big Book of Small Python Projects\"/></a><br/></center>\\r\\n\\tYou\\'ve read a beginner resource like <a href=\"https://nostarch.com/automatestuff2\">Automate the Boring Stuff with Python</a> or <a href=\"https://nostarch.com/pythoncrashcourse2e\">Python Crash Course</a>, but still feel stuck when you sit down to write your own programs? <a href=\"https://nostarch.com/big-book-small-python-projects\">The Big Book of Small Python Projects</a> has 81 games, puzzles, art, simulations, and other programs designed to be simple enough for beginners to read through their code and get inspiration.\\r\\n</div>\\r\\n\\r\\n\\r\\n<div>\\r\\n<h2 style=\"margin-top: 20px\">Online Video Course on Udemy</h2>\\r\\n<center>\\r\\n<a href=\"https://inventwithpython.com/automateudemy\"><img src=\"/images/automate_udemy_course_logo.jpg\" alt=\"Udemy course logo\"></a></center><br />\\r\\nThis video course follows much (though not all) of the content of the book. <a href=\"https://inventwithpython.com/automateudemy\">Use this link to apply a 60% discount code.</a> Or preview <a href=\"https://www.youtube.com/watch?v=1F_OgqRuSdI&amp;list=PL0-84-yl1fUnRuXGFe_F7qSH1LEnn9LkW\">the first 15 course videos for free on YouTube.</a>\\r\\n</div>\\r\\n\\r\\n<a name=\"toc\"></a><h2>Table of Contents</h2>\\r\\n\\r\\n\\t\\t\\t<ul>\\r\\n\\t\\t\\t<li><a href=\"/2e/chapter0/\">Introduction</a></li>\\r\\n\\t\\t\\t<li><a href=\"/2e/chapter1/\">Chapter  1 &#8211; Python Basics</a></li>\\r\\n\\t\\t\\t<li><a href=\"/2e/chapter2/\">Chapter  2 &#8211; Flow Control</a></li>\\r\\n\\t\\t\\t<li><a href=\"/2e/chapter3/\">Chapter  3 &#8211; Functions</a></li>\\r\\n\\t\\t\\t<li><a href=\"/2e/chapter4/\">Chapter  4 &#8211; Lists</a></li>\\r\\n\\t\\t\\t<li><a href=\"/2e/chapter5/\">Chapter  5 &#8211; Dictionaries and Structuring Data</a></li>\\r\\n\\t\\t\\t<li><a href=\"/2e/chapter6/\">Chapter  6 &#8211; Manipulating Strings</a></li>\\r\\n\\t\\t\\t<li><a href=\"/2e/chapter7/\">Chapter  7 &#8211; Pattern Matching with Regular Expressions</a></li>\\r\\n\\t\\t\\t<li><a href=\"/2e/chapter8/\">Chapter  8 &#8211; Input Validation</a></li>\\r\\n\\t\\t\\t<li><a href=\"/2e/chapter9/\">Chapter  9 &#8211; Reading and Writing Files</a></li>\\r\\n\\t\\t\\t<li><a href=\"/2e/chapter10/\">Chapter 10 &#8211; Organizing Files</a></li>\\r\\n\\t\\t\\t<li><a href=\"/2e/chapter11/\">Chapter 11 &#8211; Debugging</a></li>\\r\\n\\t\\t\\t<li><a href=\"/2e/chapter12/\">Chapter 12 &#8211; Web Scraping</a></li>\\r\\n\\t\\t\\t<li><a href=\"/2e/chapter13/\">Chapter 13 &#8211; Working with Excel Spreadsheets</a></li>\\r\\n\\t\\t\\t<li><a href=\"/2e/chapter14/\">Chapter 14 &#8211; Working with Google Spreadsheets</a></li>\\r\\n\\t\\t\\t<li><a href=\"/2e/chapter15/\">Chapter 15 &#8211; Working with PDF and Word Documents</a></li>\\r\\n\\t\\t\\t<li><a href=\"/2e/chapter16/\">Chapter 16 &#8211; Working with CSV Files and JSON Data</a></li>\\r\\n\\t\\t\\t<li><a href=\"/2e/chapter17/\">Chapter 17 &#8211; Keeping Time, Scheduling Tasks, and Launching Programs</a></li>\\r\\n\\t\\t\\t<li><a href=\"/2e/chapter18/\">Chapter 18 &#8211; Sending Email and Text Messages</a></li>\\r\\n\\t\\t\\t<li><a href=\"/2e/chapter19/\">Chapter 19 &#8211; Manipulating Images</a></li>\\r\\n\\t\\t\\t<li><a href=\"/2e/chapter20/\">Chapter 20 &#8211; Controlling the Keyboard and Mouse with GUI Automation</a></li>\\r\\n\\t\\t\\t<li><a href=\"/2e/appendixa/\">Appendix A &#8211; Installing Third-Party Modules</a></li>\\r\\n\\t\\t\\t<li><a href=\"/2e/appendixb/\">Appendix B &#8211; Running Programs</a></li>\\r\\n\\t\\t\\t<li><a href=\"/2e/appendixc/\">Appendix C &#8211; Answers to the Practice Questions</a></li>\\r\\n\\t\\t\\t</ul>\\r\\n\\r\\n\\r\\n<p><a href=\"/chapter0/\">(Link to the older 1st edition.)</a></p>\\r\\n\\r\\n<h2>Additional Content</h2>\\r\\n\\r\\n\\t\\t\\t<ul>\\r\\n\\t\\t\\t<li><a href=\"https://www.nostarch.com/download/Automate_the_Boring_Stuff_onlinematerials.zip\">Download files used in the book</a></li>\\r\\n\\t\\t\\t<li><a href=\"/list-of-css-selector-tutorials.html\">List of CSS Selector Tutorials</a></li>\\r\\n\\t\\t\\t<li><a href=\"/list-of-json-apis.html\">List of JSON APIs</a></li>\\r\\n\\t\\t\\t<li><a href=\"/list-of-programming-practice-sites.html\">List of Programming Practice Sites</a></li>\\r\\n\\t\\t\\t<li><a href=\"/list-of-web-comics.html\">List of Web Comics</a></li>\\r\\n\\t\\t\\t<li><a href=\"/schedulers.html\">Schedulers for Windows, Mac, and Linux</a></li>\\r\\n\\t\\t\\t<li><a href=\"/how-to-do-pycon.html\">How to Do PyCon (or any tech conference)</a></li>\\r\\n\\t\\t\\t</ul>\\r\\n\\r\\n\\r\\n<h2>About the Author</h2>\\r\\n\\r\\n<p>Al Sweigart is a software developer and teaches programming to kids and adults. He has written several books for beginners and makes them freely available at <a href=\"https://inventwithpython.com\">InventWithPython.com</a>. His personal website is <a href=\"https://alsweigart.com\">AlSweigart.com</a>.</p>\\r\\n\\r\\n<p><a href=\"mailto:al@inventwithpython.com\">Email</a> | <a rel=\"me\" href=\"https://mastodon.social/@AlSweigart\">Mastodon</a> | <a href=\"https://twitter.com/AlSweigart\">Twitter</a> | <a href=\"https://www.twitch.tv/alsweigart\">Twitch</a> | <a href=\"https://www.youtube.com/user/Albert10110\">YouTube</a> | <a href=\"https://github.com/asweigart/\">GitHub</a> | <a href=\"https://inventwithpython.com/blog/\">Blog</a> | <a href=\"https://www.patreon.com/AlSweigart\">Patreon</a> | <a href=\"https://www.amazon.com/stores/Al-Sweigart/author/B007716TEG\">Amazon Author</a> | <a href=\"https://www.linkedin.com/in/al-sweigart-aa41703/\">LinkedIn</a></p>\\r\\n\\r\\n\\r\\n</div>\\r\\n\\r\\n  </main>\\r\\n\\r\\n\\r\\n  <footer>\\r\\n\\t  <div><br />Read the author\\'s other free programming books on <a href=\"https://inventwithpython.com\">InventWithPython.com</a>. Support the author with a purchase:<br /><a href=\"https://www.nostarch.com/automatestuff2\">Buy Direct from Publisher (Free Ebook!)</a> | <a href=\"https://inventwithpython.com/amazon-automate2\">Buy on Amazon</a></div>\\r\\n\\r\\n    <div><center>\\r\\n      <a href=\"https://automatetheboringstuff.com\"><img src=\"/images/cover_automate2_thumb.jpg\" alt=\"Automate the Boring Stuff with Python book cover thumbnail\" style=\"width: 120px\" /></a>\\r\\n\\r\\n      <a href=\"https://inventwithpython.com/bigbookpython\"><img src=\"/images/cover_bigbookpython_thumb.jpg\" alt=\"Big Book of Small Python Projects book cover thumbnail\" style=\"width: 120px\" /></a>\\r\\n\\r\\n      <a href=\"https://inventwithpython.com/beyond\"><img src=\"/images/cover_beyond_thumb.jpg\" alt=\"Beyond the Basic Stuff with Python book cover thumbnail\" style=\"width: 120px\" /></a>\\r\\n\\r\\n      <a href=\"https://turtleappstore.com/book\"><img src=\"/images/cover_codingwithminecraft_thumb.png\" alt=\"Coding with Minecraft book cover thumbnail\" style=\"width: 120px\" /></a>\\r\\n\\r\\n      <a href=\"https://inventwithpython.com/cracking/\"><img src=\"/images/cover_crackingcodes_thumb.png\" alt=\"Cracking Codes with Python book cover thumbnail\" style=\"width: 120px\" /></a>\\r\\n\\r\\n      <a href=\"https://inventwithpython.com/invent4thed\"><img src=\"/images/cover_invent4th_thumb.png\" alt=\"Invent with Python book cover thumbnail\" style=\"width: 120px\" /></a>\\r\\n\\r\\n      <a href=\"https://inventwithscratch.com/book3/\"><img src=\"/images/cover_scratch3programmingplayground_thumb.png\" alt=\"Scratch 3 Programming Playground book cover thumbnail\" style=\"width: 120px\" /></a>\\r\\n\\r\\n      <a href=\"https://inventwithpython.com/pygame/\"><img src=\"/images/cover_makinggames_thumb.png\" alt=\"Making Games with Python and Pygame book cover thumbnail\" style=\"width: 120px\" /></a>\\r\\n    </center></div>\\r\\n  </footer>\\r\\n  </div>\\r\\n\\r\\n</body>\\r\\n</html>'"
      ]
     },
     "execution_count": 22,
     "metadata": {},
     "output_type": "execute_result"
    }
   ],
   "source": [
    "response.content"
   ]
  },
  {
   "cell_type": "code",
   "execution_count": 23,
   "id": "b4644d0d-f26c-46ad-93ac-373d5ef6053e",
   "metadata": {},
   "outputs": [
    {
     "data": {
      "text/plain": [
       "bytes"
      ]
     },
     "execution_count": 23,
     "metadata": {},
     "output_type": "execute_result"
    }
   ],
   "source": [
    "type(response.content)"
   ]
  },
  {
   "cell_type": "code",
   "execution_count": 24,
   "id": "c4a1a526-e3cd-495a-963e-3b4518fe1983",
   "metadata": {},
   "outputs": [
    {
     "data": {
      "text/plain": [
       "<Response [200]>"
      ]
     },
     "execution_count": 24,
     "metadata": {},
     "output_type": "execute_result"
    }
   ],
   "source": [
    "response"
   ]
  },
  {
   "cell_type": "code",
   "execution_count": 25,
   "id": "b1276203-5084-49fe-a05f-65ad0b487044",
   "metadata": {},
   "outputs": [],
   "source": [
    "# Convert this response object into a BeautifulSoup Object \n",
    "soup = BeautifulSoup(response.text,'html.parser')"
   ]
  },
  {
   "cell_type": "code",
   "execution_count": 26,
   "id": "54ea2102-fcf0-4785-84d4-3de2c6987a40",
   "metadata": {},
   "outputs": [
    {
     "data": {
      "text/plain": [
       "<!DOCTYPE html PUBLIC \"-//W3C//DTD XHTML 1.0 Transitional//EN\"\n",
       "    \"http://www.w3.org/TR/xhtml1/DTD/xhtml1-transitional.dtd\">\n",
       "\n",
       "<html lang=\"en\" xml:lang=\"en\" xmlns=\"http://www.w3.org/1999/xhtml\">\n",
       "<head>\n",
       "<link href=\"/automate2_website.css\" rel=\"stylesheet\" type=\"text/css\"/>\n",
       "<meta charset=\"utf-8\"/>\n",
       "<title>Automate the Boring Stuff with Python</title>\n",
       "</head>\n",
       "<body>\n",
       "<header class=\"top_header\">\n",
       "<a href=\"https://automatetheboringstuff.com/\">Home</a> | <a href=\"https://www.nostarch.com/automatestuff2\">Buy Direct from Publisher</a> | <a href=\"https://inventwithpython.com/amazon-automate2\">Buy on Amazon</a> | <a href=\"https://twitter.com/AlSweigart\">@AlSweigart</a> | <a href=\"https://www.patreon.com/AlSweigart\">Support on Patreon</a> | <a href=\"https://www.amazon.com/review/create-review/?ie=UTF8&amp;channel=glance-detail&amp;asin=1593279922\">Write a Review</a> | <form action=\"https://www.paypal.com/cgi-bin/webscr\" method=\"post\">\n",
       "<input name=\"cmd\" type=\"hidden\" value=\"_s-xclick\"/> <input name=\"encrypted\" type=\"hidden\" value=\"-----BEGIN PKCS7-----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-----END PKCS7----- \"/> <input alt=\"PayPal - The safer, easier way to pay online!\" border=\"0\" name=\"submit\" src=\"https://www.paypal.com/en_US/i/btn/btn_donate_LG.gif\" type=\"image\"/> <img alt=\"\" border=\"0\" height=\"1\" hidden=\"\" src=\"https://www.paypal.com/en_US/i/scr/pixel.gif\" style=\"display: none !important;\" width=\"1\"/>\n",
       "</form>\n",
       "</header>\n",
       "<div class=\"main\">\n",
       "<main>\n",
       "<div>\n",
       "<h1>Automate the Boring Stuff with Python</h1>\n",
       "<p>By Al Sweigart. Over 500,000 copies sold. <a href=\"#toc\">Free to read</a> under a <a href=\"https://creativecommons.org/licenses/by-nc-sa/3.0/\">CC license</a>.</p>\n",
       "<p><center><img alt=\"Cover of Automate the Boring Stuff with Python\" src=\"/images/cover_automate2_thumb.jpg\"/></center></p>\n",
       "<p>\"The best part of programming is the triumph of seeing the machine do something useful. Automate the Boring Stuff with Python frames all of programming as these small triumphs; it makes the boring fun.\" <br/>\n",
       "<strong>- <a href=\"https://twitter.com/hmason\">Hilary Mason</a></strong>, Data Scientist and Founder of <a href=\"http://www.fastforwardlabs.com/\">Fast Forward Labs</a></p>\n",
       "<p>\"I'm having a lot of fun breaking things and then putting them back together, and just remembering the joy of turning a set of instructions into something useful and fun, like I did when I was a kid.\" <br/>\n",
       "<strong>- <a href=\"https://twitter.com/wilw\">Wil Wheaton</a></strong>, <a href=\"http://wilwheaton.net/2015/09/hello-world/\">WilWheaton.net</a></p>\n",
       "<!--\n",
       "<h2>September 2023 News Update</h2>\n",
       "\n",
       "<p>I have 2,000 free sign ups for the Automate the Boring Stuff online course available. Use codes SEP2023FREE and SEP2023FREE2, or the links below:</p>\n",
       "\n",
       "<p><center><strike>Free link #1</strike> (used up)<br />\n",
       "\t<a href=\"https://udemy.com/course/automate/?couponCode=SEP2023FREE2\">Free link #2</a></center></p>\n",
       "-->\n",
       "<h2>Practical Programming for Total Beginners</h2>\n",
       "<p>If you've ever spent hours renaming files or updating hundreds of spreadsheet cells, you know how tedious tasks like these can be. But what if you could have your computer do them for you?</p>\n",
       "<p>In <a href=\"#toc\">Automate the Boring Stuff with Python</a>, you'll learn how to use Python to write programs that do in minutes what would take you hours to do by hand - no prior programming experience required. Once you've mastered the basics of programming, you'll create Python programs that effortlessly perform useful and impressive feats of automation to:</p>\n",
       "<ul>\n",
       "<li>Search for text in a file or across multiple files</li>\n",
       "<li>Create, update, move, and rename files and folders</li>\n",
       "<li>Search the Web and download online content</li>\n",
       "<li>Update and format data in Excel spreadsheets of any size</li>\n",
       "<li>Split, merge, watermark, and encrypt PDFs</li>\n",
       "<li>Send reminder emails and text notifications</li>\n",
       "<li>Fill out online forms</li>\n",
       "</ul>\n",
       "<p>Step-by-step instructions walk you through each program, and practice projects at the end of each chapter challenge you to improve those programs and use your newfound skills to automate similar tasks.</p>\n",
       "<p>Don't spend your time doing work a well-trained monkey could do. Even if you've never written a line of code, you can make your computer do the grunt work. Learn how in Automate the Boring Stuff with Python.</p>\n",
       "<h2 style=\"margin-top: 20px\">New Book: \"The Big Book of Small Python Projects\"</h2>\n",
       "<div>\n",
       "<center><a href=\"https://nostarch.com/big-book-small-python-projects\"><img alt=\"Cover image of The Big Book of Small Python Projects\" src=\"https://inventwithpython.com/images/cover_bigbookpython_thumb.jpg\"/></a><br/></center>\n",
       "\tYou've read a beginner resource like <a href=\"https://nostarch.com/automatestuff2\">Automate the Boring Stuff with Python</a> or <a href=\"https://nostarch.com/pythoncrashcourse2e\">Python Crash Course</a>, but still feel stuck when you sit down to write your own programs? <a href=\"https://nostarch.com/big-book-small-python-projects\">The Big Book of Small Python Projects</a> has 81 games, puzzles, art, simulations, and other programs designed to be simple enough for beginners to read through their code and get inspiration.\n",
       "</div>\n",
       "<div>\n",
       "<h2 style=\"margin-top: 20px\">Online Video Course on Udemy</h2>\n",
       "<center>\n",
       "<a href=\"https://inventwithpython.com/automateudemy\"><img alt=\"Udemy course logo\" src=\"/images/automate_udemy_course_logo.jpg\"/></a></center><br/>\n",
       "This video course follows much (though not all) of the content of the book. <a href=\"https://inventwithpython.com/automateudemy\">Use this link to apply a 60% discount code.</a> Or preview <a href=\"https://www.youtube.com/watch?v=1F_OgqRuSdI&amp;list=PL0-84-yl1fUnRuXGFe_F7qSH1LEnn9LkW\">the first 15 course videos for free on YouTube.</a>\n",
       "</div>\n",
       "<a name=\"toc\"></a><h2>Table of Contents</h2>\n",
       "<ul>\n",
       "<li><a href=\"/2e/chapter0/\">Introduction</a></li>\n",
       "<li><a href=\"/2e/chapter1/\">Chapter  1 – Python Basics</a></li>\n",
       "<li><a href=\"/2e/chapter2/\">Chapter  2 – Flow Control</a></li>\n",
       "<li><a href=\"/2e/chapter3/\">Chapter  3 – Functions</a></li>\n",
       "<li><a href=\"/2e/chapter4/\">Chapter  4 – Lists</a></li>\n",
       "<li><a href=\"/2e/chapter5/\">Chapter  5 – Dictionaries and Structuring Data</a></li>\n",
       "<li><a href=\"/2e/chapter6/\">Chapter  6 – Manipulating Strings</a></li>\n",
       "<li><a href=\"/2e/chapter7/\">Chapter  7 – Pattern Matching with Regular Expressions</a></li>\n",
       "<li><a href=\"/2e/chapter8/\">Chapter  8 – Input Validation</a></li>\n",
       "<li><a href=\"/2e/chapter9/\">Chapter  9 – Reading and Writing Files</a></li>\n",
       "<li><a href=\"/2e/chapter10/\">Chapter 10 – Organizing Files</a></li>\n",
       "<li><a href=\"/2e/chapter11/\">Chapter 11 – Debugging</a></li>\n",
       "<li><a href=\"/2e/chapter12/\">Chapter 12 – Web Scraping</a></li>\n",
       "<li><a href=\"/2e/chapter13/\">Chapter 13 – Working with Excel Spreadsheets</a></li>\n",
       "<li><a href=\"/2e/chapter14/\">Chapter 14 – Working with Google Spreadsheets</a></li>\n",
       "<li><a href=\"/2e/chapter15/\">Chapter 15 – Working with PDF and Word Documents</a></li>\n",
       "<li><a href=\"/2e/chapter16/\">Chapter 16 – Working with CSV Files and JSON Data</a></li>\n",
       "<li><a href=\"/2e/chapter17/\">Chapter 17 – Keeping Time, Scheduling Tasks, and Launching Programs</a></li>\n",
       "<li><a href=\"/2e/chapter18/\">Chapter 18 – Sending Email and Text Messages</a></li>\n",
       "<li><a href=\"/2e/chapter19/\">Chapter 19 – Manipulating Images</a></li>\n",
       "<li><a href=\"/2e/chapter20/\">Chapter 20 – Controlling the Keyboard and Mouse with GUI Automation</a></li>\n",
       "<li><a href=\"/2e/appendixa/\">Appendix A – Installing Third-Party Modules</a></li>\n",
       "<li><a href=\"/2e/appendixb/\">Appendix B – Running Programs</a></li>\n",
       "<li><a href=\"/2e/appendixc/\">Appendix C – Answers to the Practice Questions</a></li>\n",
       "</ul>\n",
       "<p><a href=\"/chapter0/\">(Link to the older 1st edition.)</a></p>\n",
       "<h2>Additional Content</h2>\n",
       "<ul>\n",
       "<li><a href=\"https://www.nostarch.com/download/Automate_the_Boring_Stuff_onlinematerials.zip\">Download files used in the book</a></li>\n",
       "<li><a href=\"/list-of-css-selector-tutorials.html\">List of CSS Selector Tutorials</a></li>\n",
       "<li><a href=\"/list-of-json-apis.html\">List of JSON APIs</a></li>\n",
       "<li><a href=\"/list-of-programming-practice-sites.html\">List of Programming Practice Sites</a></li>\n",
       "<li><a href=\"/list-of-web-comics.html\">List of Web Comics</a></li>\n",
       "<li><a href=\"/schedulers.html\">Schedulers for Windows, Mac, and Linux</a></li>\n",
       "<li><a href=\"/how-to-do-pycon.html\">How to Do PyCon (or any tech conference)</a></li>\n",
       "</ul>\n",
       "<h2>About the Author</h2>\n",
       "<p>Al Sweigart is a software developer and teaches programming to kids and adults. He has written several books for beginners and makes them freely available at <a href=\"https://inventwithpython.com\">InventWithPython.com</a>. His personal website is <a href=\"https://alsweigart.com\">AlSweigart.com</a>.</p>\n",
       "<p><a href=\"mailto:al@inventwithpython.com\">Email</a> | <a href=\"https://mastodon.social/@AlSweigart\" rel=\"me\">Mastodon</a> | <a href=\"https://twitter.com/AlSweigart\">Twitter</a> | <a href=\"https://www.twitch.tv/alsweigart\">Twitch</a> | <a href=\"https://www.youtube.com/user/Albert10110\">YouTube</a> | <a href=\"https://github.com/asweigart/\">GitHub</a> | <a href=\"https://inventwithpython.com/blog/\">Blog</a> | <a href=\"https://www.patreon.com/AlSweigart\">Patreon</a> | <a href=\"https://www.amazon.com/stores/Al-Sweigart/author/B007716TEG\">Amazon Author</a> | <a href=\"https://www.linkedin.com/in/al-sweigart-aa41703/\">LinkedIn</a></p>\n",
       "</div>\n",
       "</main>\n",
       "<footer>\n",
       "<div><br/>Read the author's other free programming books on <a href=\"https://inventwithpython.com\">InventWithPython.com</a>. Support the author with a purchase:<br/><a href=\"https://www.nostarch.com/automatestuff2\">Buy Direct from Publisher (Free Ebook!)</a> | <a href=\"https://inventwithpython.com/amazon-automate2\">Buy on Amazon</a></div>\n",
       "<div><center>\n",
       "<a href=\"https://automatetheboringstuff.com\"><img alt=\"Automate the Boring Stuff with Python book cover thumbnail\" src=\"/images/cover_automate2_thumb.jpg\" style=\"width: 120px\"/></a>\n",
       "<a href=\"https://inventwithpython.com/bigbookpython\"><img alt=\"Big Book of Small Python Projects book cover thumbnail\" src=\"/images/cover_bigbookpython_thumb.jpg\" style=\"width: 120px\"/></a>\n",
       "<a href=\"https://inventwithpython.com/beyond\"><img alt=\"Beyond the Basic Stuff with Python book cover thumbnail\" src=\"/images/cover_beyond_thumb.jpg\" style=\"width: 120px\"/></a>\n",
       "<a href=\"https://turtleappstore.com/book\"><img alt=\"Coding with Minecraft book cover thumbnail\" src=\"/images/cover_codingwithminecraft_thumb.png\" style=\"width: 120px\"/></a>\n",
       "<a href=\"https://inventwithpython.com/cracking/\"><img alt=\"Cracking Codes with Python book cover thumbnail\" src=\"/images/cover_crackingcodes_thumb.png\" style=\"width: 120px\"/></a>\n",
       "<a href=\"https://inventwithpython.com/invent4thed\"><img alt=\"Invent with Python book cover thumbnail\" src=\"/images/cover_invent4th_thumb.png\" style=\"width: 120px\"/></a>\n",
       "<a href=\"https://inventwithscratch.com/book3/\"><img alt=\"Scratch 3 Programming Playground book cover thumbnail\" src=\"/images/cover_scratch3programmingplayground_thumb.png\" style=\"width: 120px\"/></a>\n",
       "<a href=\"https://inventwithpython.com/pygame/\"><img alt=\"Making Games with Python and Pygame book cover thumbnail\" src=\"/images/cover_makinggames_thumb.png\" style=\"width: 120px\"/></a>\n",
       "</center></div>\n",
       "</footer>\n",
       "</div>\n",
       "</body>\n",
       "</html>"
      ]
     },
     "execution_count": 26,
     "metadata": {},
     "output_type": "execute_result"
    }
   ],
   "source": [
    "soup"
   ]
  },
  {
   "cell_type": "code",
   "execution_count": 28,
   "id": "02cfa226-b578-4df8-81eb-2f6e447028e0",
   "metadata": {},
   "outputs": [
    {
     "name": "stdout",
     "output_type": "stream",
     "text": [
      "['ASCII_SPACES', 'DEFAULT_BUILDER_FEATURES', 'DEFAULT_INTERESTING_STRING_TYPES', 'EMPTY_ELEMENT_EVENT', 'END_ELEMENT_EVENT', 'NO_PARSER_SPECIFIED_WARNING', 'ROOT_TAG_NAME', 'START_ELEMENT_EVENT', 'STRING_ELEMENT_EVENT', '__bool__', '__call__', '__class__', '__contains__', '__copy__', '__deepcopy__', '__delattr__', '__delitem__', '__dict__', '__dir__', '__doc__', '__eq__', '__format__', '__ge__', '__getattr__', '__getattribute__', '__getitem__', '__getstate__', '__gt__', '__hash__', '__init__', '__init_subclass__', '__iter__', '__le__', '__len__', '__lt__', '__module__', '__ne__', '__new__', '__reduce__', '__reduce_ex__', '__repr__', '__setattr__', '__setitem__', '__setstate__', '__sizeof__', '__str__', '__subclasshook__', '__unicode__', '__weakref__', '_all_strings', '_clone', '_decode_markup', '_event_stream', '_feed', '_find_all', '_find_one', '_format_tag', '_indent_string', '_is_xml', '_lastRecursiveChild', '_last_descendant', '_linkage_fixer', '_markup_is_url', '_markup_resembles_filename', '_most_recent_element', '_namespaces', '_popToTag', '_should_pretty_print', 'append', 'attrs', 'builder', 'can_be_empty_element', 'cdata_list_attributes', 'childGenerator', 'children', 'clear', 'contains_replacement_characters', 'contents', 'css', 'currentTag', 'current_data', 'declared_html_encoding', 'decode', 'decode_contents', 'decompose', 'decomposed', 'default', 'descendants', 'element_classes', 'encode', 'encode_contents', 'endData', 'extend', 'extract', 'fetchNextSiblings', 'fetchParents', 'fetchPrevious', 'fetchPreviousSiblings', 'find', 'findAll', 'findAllNext', 'findAllPrevious', 'findChild', 'findChildren', 'findNext', 'findNextSibling', 'findNextSiblings', 'findParent', 'findParents', 'findPrevious', 'findPreviousSibling', 'findPreviousSiblings', 'find_all', 'find_all_next', 'find_all_previous', 'find_next', 'find_next_sibling', 'find_next_siblings', 'find_parent', 'find_parents', 'find_previous', 'find_previous_sibling', 'find_previous_siblings', 'format_string', 'formatter_for_name', 'get', 'getText', 'get_attribute_list', 'get_text', 'handle_data', 'handle_endtag', 'handle_starttag', 'has_attr', 'has_key', 'hidden', 'index', 'insert', 'insert_after', 'insert_before', 'interesting_string_types', 'isSelfClosing', 'is_empty_element', 'is_xml', 'known_xml', 'markup', 'name', 'namespace', 'new_string', 'new_tag', 'next', 'nextGenerator', 'nextSibling', 'nextSiblingGenerator', 'next_element', 'next_elements', 'next_sibling', 'next_siblings', 'object_was_parsed', 'open_tag_counter', 'original_encoding', 'parent', 'parentGenerator', 'parents', 'parse_only', 'parserClass', 'parser_class', 'popTag', 'prefix', 'preserve_whitespace_tag_stack', 'preserve_whitespace_tags', 'prettify', 'previous', 'previousGenerator', 'previousSibling', 'previousSiblingGenerator', 'previous_element', 'previous_elements', 'previous_sibling', 'previous_siblings', 'pushTag', 'recursiveChildGenerator', 'renderContents', 'replaceWith', 'replaceWithChildren', 'replace_with', 'replace_with_children', 'reset', 'select', 'select_one', 'self_and_descendants', 'setup', 'smooth', 'string', 'string_container', 'string_container_stack', 'strings', 'stripped_strings', 'tagStack', 'text', 'unwrap', 'wrap']\n"
     ]
    }
   ],
   "source": [
    "print(dir(soup))"
   ]
  },
  {
   "cell_type": "code",
   "execution_count": 29,
   "id": "f792b10d-d3ad-45ce-afb5-5b3b27e24146",
   "metadata": {},
   "outputs": [
    {
     "data": {
      "text/plain": [
       "'<!DOCTYPE html PUBLIC \"-//W3C//DTD XHTML 1.0 Transitional//EN\"\\r\\n    \"http://www.w3.org/TR/xhtml1/DTD/xhtml1-transitional.dtd\">\\n<html lang=\"en\" xml:lang=\"en\" xmlns=\"http://www.w3.org/1999/xhtml\">\\n <head>\\n  <link href=\"/automate2_website.css\" rel=\"stylesheet\" type=\"text/css\"/>\\n  <meta charset=\"utf-8\"/>\\n  <title>\\n   Automate the Boring Stuff with Python\\n  </title>\\n </head>\\n <body>\\n  <header class=\"top_header\">\\n   <a href=\"https://automatetheboringstuff.com/\">\\n    Home\\n   </a>\\n   |\\n   <a href=\"https://www.nostarch.com/automatestuff2\">\\n    Buy Direct from Publisher\\n   </a>\\n   |\\n   <a href=\"https://inventwithpython.com/amazon-automate2\">\\n    Buy on Amazon\\n   </a>\\n   |\\n   <a href=\"https://twitter.com/AlSweigart\">\\n    @AlSweigart\\n   </a>\\n   |\\n   <a href=\"https://www.patreon.com/AlSweigart\">\\n    Support on Patreon\\n   </a>\\n   |\\n   <a href=\"https://www.amazon.com/review/create-review/?ie=UTF8&amp;channel=glance-detail&amp;asin=1593279922\">\\n    Write a Review\\n   </a>\\n   |\\n   <form action=\"https://www.paypal.com/cgi-bin/webscr\" method=\"post\">\\n    <input name=\"cmd\" type=\"hidden\" value=\"_s-xclick\"/>\\n    <input name=\"encrypted\" type=\"hidden\" value=\"-----BEGIN PKCS7-----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-----END PKCS7----- \"/>\\n    <input alt=\"PayPal - The safer, easier way to pay online!\" border=\"0\" name=\"submit\" src=\"https://www.paypal.com/en_US/i/btn/btn_donate_LG.gif\" type=\"image\"/>\\n    <img alt=\"\" border=\"0\" height=\"1\" hidden=\"\" src=\"https://www.paypal.com/en_US/i/scr/pixel.gif\" style=\"display: none !important;\" width=\"1\"/>\\n   </form>\\n  </header>\\n  <div class=\"main\">\\n   <main>\\n    <div>\\n     <h1>\\n      Automate the Boring Stuff with Python\\n     </h1>\\n     <p>\\n      By Al Sweigart. Over 500,000 copies sold.\\n      <a href=\"#toc\">\\n       Free to read\\n      </a>\\n      under a\\n      <a href=\"https://creativecommons.org/licenses/by-nc-sa/3.0/\">\\n       CC license\\n      </a>\\n      .\\n     </p>\\n     <p>\\n      <center>\\n       <img alt=\"Cover of Automate the Boring Stuff with Python\" src=\"/images/cover_automate2_thumb.jpg\"/>\\n      </center>\\n     </p>\\n     <p>\\n      \"The best part of programming is the triumph of seeing the machine do something useful. Automate the Boring Stuff with Python frames all of programming as these small triumphs; it makes the boring fun.\"\\n      <br/>\\n      <strong>\\n       -\\n       <a href=\"https://twitter.com/hmason\">\\n        Hilary Mason\\n       </a>\\n      </strong>\\n      , Data Scientist and Founder of\\n      <a href=\"http://www.fastforwardlabs.com/\">\\n       Fast Forward Labs\\n      </a>\\n     </p>\\n     <p>\\n      \"I\\'m having a lot of fun breaking things and then putting them back together, and just remembering the joy of turning a set of instructions into something useful and fun, like I did when I was a kid.\"\\n      <br/>\\n      <strong>\\n       -\\n       <a href=\"https://twitter.com/wilw\">\\n        Wil Wheaton\\n       </a>\\n      </strong>\\n      ,\\n      <a href=\"http://wilwheaton.net/2015/09/hello-world/\">\\n       WilWheaton.net\\n      </a>\\n     </p>\\n     <!--\\r\\n<h2>September 2023 News Update</h2>\\r\\n\\r\\n<p>I have 2,000 free sign ups for the Automate the Boring Stuff online course available. Use codes SEP2023FREE and SEP2023FREE2, or the links below:</p>\\r\\n\\r\\n<p><center><strike>Free link #1</strike> (used up)<br />\\r\\n\\t<a href=\"https://udemy.com/course/automate/?couponCode=SEP2023FREE2\">Free link #2</a></center></p>\\r\\n-->\\n     <h2>\\n      Practical Programming for Total Beginners\\n     </h2>\\n     <p>\\n      If you\\'ve ever spent hours renaming files or updating hundreds of spreadsheet cells, you know how tedious tasks like these can be. But what if you could have your computer do them for you?\\n     </p>\\n     <p>\\n      In\\n      <a href=\"#toc\">\\n       Automate the Boring Stuff with Python\\n      </a>\\n      , you\\'ll learn how to use Python to write programs that do in minutes what would take you hours to do by hand - no prior programming experience required. Once you\\'ve mastered the basics of programming, you\\'ll create Python programs that effortlessly perform useful and impressive feats of automation to:\\n     </p>\\n     <ul>\\n      <li>\\n       Search for text in a file or across multiple files\\n      </li>\\n      <li>\\n       Create, update, move, and rename files and folders\\n      </li>\\n      <li>\\n       Search the Web and download online content\\n      </li>\\n      <li>\\n       Update and format data in Excel spreadsheets of any size\\n      </li>\\n      <li>\\n       Split, merge, watermark, and encrypt PDFs\\n      </li>\\n      <li>\\n       Send reminder emails and text notifications\\n      </li>\\n      <li>\\n       Fill out online forms\\n      </li>\\n     </ul>\\n     <p>\\n      Step-by-step instructions walk you through each program, and practice projects at the end of each chapter challenge you to improve those programs and use your newfound skills to automate similar tasks.\\n     </p>\\n     <p>\\n      Don\\'t spend your time doing work a well-trained monkey could do. Even if you\\'ve never written a line of code, you can make your computer do the grunt work. Learn how in Automate the Boring Stuff with Python.\\n     </p>\\n     <h2 style=\"margin-top: 20px\">\\n      New Book: \"The Big Book of Small Python Projects\"\\n     </h2>\\n     <div>\\n      <center>\\n       <a href=\"https://nostarch.com/big-book-small-python-projects\">\\n        <img alt=\"Cover image of The Big Book of Small Python Projects\" src=\"https://inventwithpython.com/images/cover_bigbookpython_thumb.jpg\"/>\\n       </a>\\n       <br/>\\n      </center>\\n      You\\'ve read a beginner resource like\\n      <a href=\"https://nostarch.com/automatestuff2\">\\n       Automate the Boring Stuff with Python\\n      </a>\\n      or\\n      <a href=\"https://nostarch.com/pythoncrashcourse2e\">\\n       Python Crash Course\\n      </a>\\n      , but still feel stuck when you sit down to write your own programs?\\n      <a href=\"https://nostarch.com/big-book-small-python-projects\">\\n       The Big Book of Small Python Projects\\n      </a>\\n      has 81 games, puzzles, art, simulations, and other programs designed to be simple enough for beginners to read through their code and get inspiration.\\n     </div>\\n     <div>\\n      <h2 style=\"margin-top: 20px\">\\n       Online Video Course on Udemy\\n      </h2>\\n      <center>\\n       <a href=\"https://inventwithpython.com/automateudemy\">\\n        <img alt=\"Udemy course logo\" src=\"/images/automate_udemy_course_logo.jpg\"/>\\n       </a>\\n      </center>\\n      <br/>\\n      This video course follows much (though not all) of the content of the book.\\n      <a href=\"https://inventwithpython.com/automateudemy\">\\n       Use this link to apply a 60% discount code.\\n      </a>\\n      Or preview\\n      <a href=\"https://www.youtube.com/watch?v=1F_OgqRuSdI&amp;list=PL0-84-yl1fUnRuXGFe_F7qSH1LEnn9LkW\">\\n       the first 15 course videos for free on YouTube.\\n      </a>\\n     </div>\\n     <a name=\"toc\">\\n     </a>\\n     <h2>\\n      Table of Contents\\n     </h2>\\n     <ul>\\n      <li>\\n       <a href=\"/2e/chapter0/\">\\n        Introduction\\n       </a>\\n      </li>\\n      <li>\\n       <a href=\"/2e/chapter1/\">\\n        Chapter  1 – Python Basics\\n       </a>\\n      </li>\\n      <li>\\n       <a href=\"/2e/chapter2/\">\\n        Chapter  2 – Flow Control\\n       </a>\\n      </li>\\n      <li>\\n       <a href=\"/2e/chapter3/\">\\n        Chapter  3 – Functions\\n       </a>\\n      </li>\\n      <li>\\n       <a href=\"/2e/chapter4/\">\\n        Chapter  4 – Lists\\n       </a>\\n      </li>\\n      <li>\\n       <a href=\"/2e/chapter5/\">\\n        Chapter  5 – Dictionaries and Structuring Data\\n       </a>\\n      </li>\\n      <li>\\n       <a href=\"/2e/chapter6/\">\\n        Chapter  6 – Manipulating Strings\\n       </a>\\n      </li>\\n      <li>\\n       <a href=\"/2e/chapter7/\">\\n        Chapter  7 – Pattern Matching with Regular Expressions\\n       </a>\\n      </li>\\n      <li>\\n       <a href=\"/2e/chapter8/\">\\n        Chapter  8 – Input Validation\\n       </a>\\n      </li>\\n      <li>\\n       <a href=\"/2e/chapter9/\">\\n        Chapter  9 – Reading and Writing Files\\n       </a>\\n      </li>\\n      <li>\\n       <a href=\"/2e/chapter10/\">\\n        Chapter 10 – Organizing Files\\n       </a>\\n      </li>\\n      <li>\\n       <a href=\"/2e/chapter11/\">\\n        Chapter 11 – Debugging\\n       </a>\\n      </li>\\n      <li>\\n       <a href=\"/2e/chapter12/\">\\n        Chapter 12 – Web Scraping\\n       </a>\\n      </li>\\n      <li>\\n       <a href=\"/2e/chapter13/\">\\n        Chapter 13 – Working with Excel Spreadsheets\\n       </a>\\n      </li>\\n      <li>\\n       <a href=\"/2e/chapter14/\">\\n        Chapter 14 – Working with Google Spreadsheets\\n       </a>\\n      </li>\\n      <li>\\n       <a href=\"/2e/chapter15/\">\\n        Chapter 15 – Working with PDF and Word Documents\\n       </a>\\n      </li>\\n      <li>\\n       <a href=\"/2e/chapter16/\">\\n        Chapter 16 – Working with CSV Files and JSON Data\\n       </a>\\n      </li>\\n      <li>\\n       <a href=\"/2e/chapter17/\">\\n        Chapter 17 – Keeping Time, Scheduling Tasks, and Launching Programs\\n       </a>\\n      </li>\\n      <li>\\n       <a href=\"/2e/chapter18/\">\\n        Chapter 18 – Sending Email and Text Messages\\n       </a>\\n      </li>\\n      <li>\\n       <a href=\"/2e/chapter19/\">\\n        Chapter 19 – Manipulating Images\\n       </a>\\n      </li>\\n      <li>\\n       <a href=\"/2e/chapter20/\">\\n        Chapter 20 – Controlling the Keyboard and Mouse with GUI Automation\\n       </a>\\n      </li>\\n      <li>\\n       <a href=\"/2e/appendixa/\">\\n        Appendix A – Installing Third-Party Modules\\n       </a>\\n      </li>\\n      <li>\\n       <a href=\"/2e/appendixb/\">\\n        Appendix B – Running Programs\\n       </a>\\n      </li>\\n      <li>\\n       <a href=\"/2e/appendixc/\">\\n        Appendix C – Answers to the Practice Questions\\n       </a>\\n      </li>\\n     </ul>\\n     <p>\\n      <a href=\"/chapter0/\">\\n       (Link to the older 1st edition.)\\n      </a>\\n     </p>\\n     <h2>\\n      Additional Content\\n     </h2>\\n     <ul>\\n      <li>\\n       <a href=\"https://www.nostarch.com/download/Automate_the_Boring_Stuff_onlinematerials.zip\">\\n        Download files used in the book\\n       </a>\\n      </li>\\n      <li>\\n       <a href=\"/list-of-css-selector-tutorials.html\">\\n        List of CSS Selector Tutorials\\n       </a>\\n      </li>\\n      <li>\\n       <a href=\"/list-of-json-apis.html\">\\n        List of JSON APIs\\n       </a>\\n      </li>\\n      <li>\\n       <a href=\"/list-of-programming-practice-sites.html\">\\n        List of Programming Practice Sites\\n       </a>\\n      </li>\\n      <li>\\n       <a href=\"/list-of-web-comics.html\">\\n        List of Web Comics\\n       </a>\\n      </li>\\n      <li>\\n       <a href=\"/schedulers.html\">\\n        Schedulers for Windows, Mac, and Linux\\n       </a>\\n      </li>\\n      <li>\\n       <a href=\"/how-to-do-pycon.html\">\\n        How to Do PyCon (or any tech conference)\\n       </a>\\n      </li>\\n     </ul>\\n     <h2>\\n      About the Author\\n     </h2>\\n     <p>\\n      Al Sweigart is a software developer and teaches programming to kids and adults. He has written several books for beginners and makes them freely available at\\n      <a href=\"https://inventwithpython.com\">\\n       InventWithPython.com\\n      </a>\\n      . His personal website is\\n      <a href=\"https://alsweigart.com\">\\n       AlSweigart.com\\n      </a>\\n      .\\n     </p>\\n     <p>\\n      <a href=\"mailto:al@inventwithpython.com\">\\n       Email\\n      </a>\\n      |\\n      <a href=\"https://mastodon.social/@AlSweigart\" rel=\"me\">\\n       Mastodon\\n      </a>\\n      |\\n      <a href=\"https://twitter.com/AlSweigart\">\\n       Twitter\\n      </a>\\n      |\\n      <a href=\"https://www.twitch.tv/alsweigart\">\\n       Twitch\\n      </a>\\n      |\\n      <a href=\"https://www.youtube.com/user/Albert10110\">\\n       YouTube\\n      </a>\\n      |\\n      <a href=\"https://github.com/asweigart/\">\\n       GitHub\\n      </a>\\n      |\\n      <a href=\"https://inventwithpython.com/blog/\">\\n       Blog\\n      </a>\\n      |\\n      <a href=\"https://www.patreon.com/AlSweigart\">\\n       Patreon\\n      </a>\\n      |\\n      <a href=\"https://www.amazon.com/stores/Al-Sweigart/author/B007716TEG\">\\n       Amazon Author\\n      </a>\\n      |\\n      <a href=\"https://www.linkedin.com/in/al-sweigart-aa41703/\">\\n       LinkedIn\\n      </a>\\n     </p>\\n    </div>\\n   </main>\\n   <footer>\\n    <div>\\n     <br/>\\n     Read the author\\'s other free programming books on\\n     <a href=\"https://inventwithpython.com\">\\n      InventWithPython.com\\n     </a>\\n     . Support the author with a purchase:\\n     <br/>\\n     <a href=\"https://www.nostarch.com/automatestuff2\">\\n      Buy Direct from Publisher (Free Ebook!)\\n     </a>\\n     |\\n     <a href=\"https://inventwithpython.com/amazon-automate2\">\\n      Buy on Amazon\\n     </a>\\n    </div>\\n    <div>\\n     <center>\\n      <a href=\"https://automatetheboringstuff.com\">\\n       <img alt=\"Automate the Boring Stuff with Python book cover thumbnail\" src=\"/images/cover_automate2_thumb.jpg\" style=\"width: 120px\"/>\\n      </a>\\n      <a href=\"https://inventwithpython.com/bigbookpython\">\\n       <img alt=\"Big Book of Small Python Projects book cover thumbnail\" src=\"/images/cover_bigbookpython_thumb.jpg\" style=\"width: 120px\"/>\\n      </a>\\n      <a href=\"https://inventwithpython.com/beyond\">\\n       <img alt=\"Beyond the Basic Stuff with Python book cover thumbnail\" src=\"/images/cover_beyond_thumb.jpg\" style=\"width: 120px\"/>\\n      </a>\\n      <a href=\"https://turtleappstore.com/book\">\\n       <img alt=\"Coding with Minecraft book cover thumbnail\" src=\"/images/cover_codingwithminecraft_thumb.png\" style=\"width: 120px\"/>\\n      </a>\\n      <a href=\"https://inventwithpython.com/cracking/\">\\n       <img alt=\"Cracking Codes with Python book cover thumbnail\" src=\"/images/cover_crackingcodes_thumb.png\" style=\"width: 120px\"/>\\n      </a>\\n      <a href=\"https://inventwithpython.com/invent4thed\">\\n       <img alt=\"Invent with Python book cover thumbnail\" src=\"/images/cover_invent4th_thumb.png\" style=\"width: 120px\"/>\\n      </a>\\n      <a href=\"https://inventwithscratch.com/book3/\">\\n       <img alt=\"Scratch 3 Programming Playground book cover thumbnail\" src=\"/images/cover_scratch3programmingplayground_thumb.png\" style=\"width: 120px\"/>\\n      </a>\\n      <a href=\"https://inventwithpython.com/pygame/\">\\n       <img alt=\"Making Games with Python and Pygame book cover thumbnail\" src=\"/images/cover_makinggames_thumb.png\" style=\"width: 120px\"/>\\n      </a>\\n     </center>\\n    </div>\\n   </footer>\\n  </div>\\n </body>\\n</html>\\n'"
      ]
     },
     "execution_count": 29,
     "metadata": {},
     "output_type": "execute_result"
    }
   ],
   "source": [
    "soup.prettify()"
   ]
  },
  {
   "cell_type": "code",
   "execution_count": 30,
   "id": "b18081aa-5cc0-45e9-94b6-5a8515d5750e",
   "metadata": {},
   "outputs": [],
   "source": [
    "data = soup.find_all('a')"
   ]
  },
  {
   "cell_type": "code",
   "execution_count": 31,
   "id": "db503389-788d-4ab9-b0b5-4af83285b7f7",
   "metadata": {},
   "outputs": [
    {
     "data": {
      "text/plain": [
       "[<a href=\"https://automatetheboringstuff.com/\">Home</a>,\n",
       " <a href=\"https://www.nostarch.com/automatestuff2\">Buy Direct from Publisher</a>,\n",
       " <a href=\"https://inventwithpython.com/amazon-automate2\">Buy on Amazon</a>,\n",
       " <a href=\"https://twitter.com/AlSweigart\">@AlSweigart</a>,\n",
       " <a href=\"https://www.patreon.com/AlSweigart\">Support on Patreon</a>,\n",
       " <a href=\"https://www.amazon.com/review/create-review/?ie=UTF8&amp;channel=glance-detail&amp;asin=1593279922\">Write a Review</a>,\n",
       " <a href=\"#toc\">Free to read</a>,\n",
       " <a href=\"https://creativecommons.org/licenses/by-nc-sa/3.0/\">CC license</a>,\n",
       " <a href=\"https://twitter.com/hmason\">Hilary Mason</a>,\n",
       " <a href=\"http://www.fastforwardlabs.com/\">Fast Forward Labs</a>,\n",
       " <a href=\"https://twitter.com/wilw\">Wil Wheaton</a>,\n",
       " <a href=\"http://wilwheaton.net/2015/09/hello-world/\">WilWheaton.net</a>,\n",
       " <a href=\"#toc\">Automate the Boring Stuff with Python</a>,\n",
       " <a href=\"https://nostarch.com/big-book-small-python-projects\"><img alt=\"Cover image of The Big Book of Small Python Projects\" src=\"https://inventwithpython.com/images/cover_bigbookpython_thumb.jpg\"/></a>,\n",
       " <a href=\"https://nostarch.com/automatestuff2\">Automate the Boring Stuff with Python</a>,\n",
       " <a href=\"https://nostarch.com/pythoncrashcourse2e\">Python Crash Course</a>,\n",
       " <a href=\"https://nostarch.com/big-book-small-python-projects\">The Big Book of Small Python Projects</a>,\n",
       " <a href=\"https://inventwithpython.com/automateudemy\"><img alt=\"Udemy course logo\" src=\"/images/automate_udemy_course_logo.jpg\"/></a>,\n",
       " <a href=\"https://inventwithpython.com/automateudemy\">Use this link to apply a 60% discount code.</a>,\n",
       " <a href=\"https://www.youtube.com/watch?v=1F_OgqRuSdI&amp;list=PL0-84-yl1fUnRuXGFe_F7qSH1LEnn9LkW\">the first 15 course videos for free on YouTube.</a>,\n",
       " <a name=\"toc\"></a>,\n",
       " <a href=\"/2e/chapter0/\">Introduction</a>,\n",
       " <a href=\"/2e/chapter1/\">Chapter  1 – Python Basics</a>,\n",
       " <a href=\"/2e/chapter2/\">Chapter  2 – Flow Control</a>,\n",
       " <a href=\"/2e/chapter3/\">Chapter  3 – Functions</a>,\n",
       " <a href=\"/2e/chapter4/\">Chapter  4 – Lists</a>,\n",
       " <a href=\"/2e/chapter5/\">Chapter  5 – Dictionaries and Structuring Data</a>,\n",
       " <a href=\"/2e/chapter6/\">Chapter  6 – Manipulating Strings</a>,\n",
       " <a href=\"/2e/chapter7/\">Chapter  7 – Pattern Matching with Regular Expressions</a>,\n",
       " <a href=\"/2e/chapter8/\">Chapter  8 – Input Validation</a>,\n",
       " <a href=\"/2e/chapter9/\">Chapter  9 – Reading and Writing Files</a>,\n",
       " <a href=\"/2e/chapter10/\">Chapter 10 – Organizing Files</a>,\n",
       " <a href=\"/2e/chapter11/\">Chapter 11 – Debugging</a>,\n",
       " <a href=\"/2e/chapter12/\">Chapter 12 – Web Scraping</a>,\n",
       " <a href=\"/2e/chapter13/\">Chapter 13 – Working with Excel Spreadsheets</a>,\n",
       " <a href=\"/2e/chapter14/\">Chapter 14 – Working with Google Spreadsheets</a>,\n",
       " <a href=\"/2e/chapter15/\">Chapter 15 – Working with PDF and Word Documents</a>,\n",
       " <a href=\"/2e/chapter16/\">Chapter 16 – Working with CSV Files and JSON Data</a>,\n",
       " <a href=\"/2e/chapter17/\">Chapter 17 – Keeping Time, Scheduling Tasks, and Launching Programs</a>,\n",
       " <a href=\"/2e/chapter18/\">Chapter 18 – Sending Email and Text Messages</a>,\n",
       " <a href=\"/2e/chapter19/\">Chapter 19 – Manipulating Images</a>,\n",
       " <a href=\"/2e/chapter20/\">Chapter 20 – Controlling the Keyboard and Mouse with GUI Automation</a>,\n",
       " <a href=\"/2e/appendixa/\">Appendix A – Installing Third-Party Modules</a>,\n",
       " <a href=\"/2e/appendixb/\">Appendix B – Running Programs</a>,\n",
       " <a href=\"/2e/appendixc/\">Appendix C – Answers to the Practice Questions</a>,\n",
       " <a href=\"/chapter0/\">(Link to the older 1st edition.)</a>,\n",
       " <a href=\"https://www.nostarch.com/download/Automate_the_Boring_Stuff_onlinematerials.zip\">Download files used in the book</a>,\n",
       " <a href=\"/list-of-css-selector-tutorials.html\">List of CSS Selector Tutorials</a>,\n",
       " <a href=\"/list-of-json-apis.html\">List of JSON APIs</a>,\n",
       " <a href=\"/list-of-programming-practice-sites.html\">List of Programming Practice Sites</a>,\n",
       " <a href=\"/list-of-web-comics.html\">List of Web Comics</a>,\n",
       " <a href=\"/schedulers.html\">Schedulers for Windows, Mac, and Linux</a>,\n",
       " <a href=\"/how-to-do-pycon.html\">How to Do PyCon (or any tech conference)</a>,\n",
       " <a href=\"https://inventwithpython.com\">InventWithPython.com</a>,\n",
       " <a href=\"https://alsweigart.com\">AlSweigart.com</a>,\n",
       " <a href=\"mailto:al@inventwithpython.com\">Email</a>,\n",
       " <a href=\"https://mastodon.social/@AlSweigart\" rel=\"me\">Mastodon</a>,\n",
       " <a href=\"https://twitter.com/AlSweigart\">Twitter</a>,\n",
       " <a href=\"https://www.twitch.tv/alsweigart\">Twitch</a>,\n",
       " <a href=\"https://www.youtube.com/user/Albert10110\">YouTube</a>,\n",
       " <a href=\"https://github.com/asweigart/\">GitHub</a>,\n",
       " <a href=\"https://inventwithpython.com/blog/\">Blog</a>,\n",
       " <a href=\"https://www.patreon.com/AlSweigart\">Patreon</a>,\n",
       " <a href=\"https://www.amazon.com/stores/Al-Sweigart/author/B007716TEG\">Amazon Author</a>,\n",
       " <a href=\"https://www.linkedin.com/in/al-sweigart-aa41703/\">LinkedIn</a>,\n",
       " <a href=\"https://inventwithpython.com\">InventWithPython.com</a>,\n",
       " <a href=\"https://www.nostarch.com/automatestuff2\">Buy Direct from Publisher (Free Ebook!)</a>,\n",
       " <a href=\"https://inventwithpython.com/amazon-automate2\">Buy on Amazon</a>,\n",
       " <a href=\"https://automatetheboringstuff.com\"><img alt=\"Automate the Boring Stuff with Python book cover thumbnail\" src=\"/images/cover_automate2_thumb.jpg\" style=\"width: 120px\"/></a>,\n",
       " <a href=\"https://inventwithpython.com/bigbookpython\"><img alt=\"Big Book of Small Python Projects book cover thumbnail\" src=\"/images/cover_bigbookpython_thumb.jpg\" style=\"width: 120px\"/></a>,\n",
       " <a href=\"https://inventwithpython.com/beyond\"><img alt=\"Beyond the Basic Stuff with Python book cover thumbnail\" src=\"/images/cover_beyond_thumb.jpg\" style=\"width: 120px\"/></a>,\n",
       " <a href=\"https://turtleappstore.com/book\"><img alt=\"Coding with Minecraft book cover thumbnail\" src=\"/images/cover_codingwithminecraft_thumb.png\" style=\"width: 120px\"/></a>,\n",
       " <a href=\"https://inventwithpython.com/cracking/\"><img alt=\"Cracking Codes with Python book cover thumbnail\" src=\"/images/cover_crackingcodes_thumb.png\" style=\"width: 120px\"/></a>,\n",
       " <a href=\"https://inventwithpython.com/invent4thed\"><img alt=\"Invent with Python book cover thumbnail\" src=\"/images/cover_invent4th_thumb.png\" style=\"width: 120px\"/></a>,\n",
       " <a href=\"https://inventwithscratch.com/book3/\"><img alt=\"Scratch 3 Programming Playground book cover thumbnail\" src=\"/images/cover_scratch3programmingplayground_thumb.png\" style=\"width: 120px\"/></a>,\n",
       " <a href=\"https://inventwithpython.com/pygame/\"><img alt=\"Making Games with Python and Pygame book cover thumbnail\" src=\"/images/cover_makinggames_thumb.png\" style=\"width: 120px\"/></a>]"
      ]
     },
     "execution_count": 31,
     "metadata": {},
     "output_type": "execute_result"
    }
   ],
   "source": [
    "data"
   ]
  },
  {
   "cell_type": "code",
   "execution_count": 33,
   "id": "3ccec751-9ff0-4624-b004-73a7adc876a2",
   "metadata": {},
   "outputs": [
    {
     "name": "stdout",
     "output_type": "stream",
     "text": [
      "[<a href=\"https://www.amazon.com/review/create-review/?ie=UTF8&amp;channel=glance-detail&amp;asin=1593279922\">Write a Review</a>, <a href=\"#toc\">Free to read</a>, <a href=\"https://creativecommons.org/licenses/by-nc-sa/3.0/\">CC license</a>, <a href=\"https://twitter.com/hmason\">Hilary Mason</a>, <a href=\"http://www.fastforwardlabs.com/\">Fast Forward Labs</a>, <a href=\"https://automatetheboringstuff.com/\">Home</a>, <a href=\"https://www.nostarch.com/automatestuff2\">Buy Direct from Publisher</a>, <a href=\"https://inventwithpython.com/amazon-automate2\">Buy on Amazon</a>, <a href=\"https://twitter.com/AlSweigart\">@AlSweigart</a>, <a href=\"https://www.patreon.com/AlSweigart\">Support on Patreon</a>]\n"
     ]
    }
   ],
   "source": [
    "import threading\n",
    "import requests\n",
    "from bs4 import BeautifulSoup\n",
    "\n",
    "url = 'https://automatetheboringstuff.com/'\n",
    "result = []\n",
    "\n",
    "def fetch_data(start,end):\n",
    "    response = requests.get(url)\n",
    "    soup = BeautifulSoup(response.text,'html.parser')\n",
    "    data = soup.find_all('a')[start:end]\n",
    "    result.extend(data)\n",
    "\n",
    "thread1 = threading.Thread(target=fetch_data,args=(0,5))\n",
    "thread2 = threading.Thread(target=fetch_data,args=(5,10))\n",
    "\n",
    "thread1.start()\n",
    "thread2.start()\n",
    "\n",
    "# We will wait for both the threads to finish \n",
    "\n",
    "thread1.join()\n",
    "thread2.join()\n",
    "\n",
    "print(result)\n"
   ]
  },
  {
   "cell_type": "markdown",
   "id": "c1fbc0ed-d0ea-499e-8c3f-924d0792cd5d",
   "metadata": {},
   "source": [
    "# Downloading multiple files concurrently"
   ]
  },
  {
   "cell_type": "code",
   "execution_count": 39,
   "id": "49fd111a-a03a-4ea6-bc86-230871d6528b",
   "metadata": {},
   "outputs": [
    {
     "name": "stdout",
     "output_type": "stream",
     "text": [
      "[<Thread(Thread-26 (download_file), initial)>, <Thread(Thread-27 (download_file), initial)>, <Thread(Thread-28 (download_file), initial)>]\n",
      "www.python.org\n",
      "www.google.com\n",
      "automatetheboringstuff.com\n",
      "Downloaded files :  ['www.python.org', 'www.google.com', 'automatetheboringstuff.com']\n"
     ]
    }
   ],
   "source": [
    "import threading \n",
    "import requests\n",
    "import pdb;pdb.set_trace\n",
    "\n",
    "file_urls = ['https://automatetheboringstuff.com','https://www.google.com','https://www.python.org']\n",
    "downloaded_files = []\n",
    "\n",
    "def download_file(url):\n",
    "    response = requests.get(url)\n",
    "    filename = url.split(\"/\")[-1]\n",
    "    print(filename)\n",
    "    with open(filename,'wb') as file:\n",
    "        file.write(response.content)\n",
    "    downloaded_files.append(filename)\n",
    "\n",
    "# create threads for downloading each file \n",
    "\n",
    "threads = [threading.Thread(target=download_file,args=(url,)) for url in file_urls]\n",
    "print(threads)\n",
    "\n",
    "# start the thread \n",
    "\n",
    "for thread in threads:\n",
    "    thread.start()\n",
    "# Wait for all threads to finish \n",
    "\n",
    "for thread in threads:\n",
    "    thread.join()\n",
    "\n",
    "print(\"Downloaded files : \",downloaded_files)\n",
    "\n",
    "\n",
    "\n"
   ]
  },
  {
   "cell_type": "code",
   "execution_count": 37,
   "id": "5c44e49e-0258-4713-8cca-b8757ab91a77",
   "metadata": {},
   "outputs": [
    {
     "name": "stdout",
     "output_type": "stream",
     "text": [
      "['Pdb', 'Restart', 'TESTCMD', 'Union', '_ModuleTarget', '_ScriptTarget', '__all__', '__builtins__', '__cached__', '__doc__', '__file__', '__loader__', '__name__', '__package__', '__spec__', '_rstr', '_usage', 'bdb', 'cmd', 'code', 'dis', 'find_function', 'functools', 'glob', 'help', 'inspect', 'io', 'lasti2lineno', 'line_prefix', 'linecache', 'main', 'os', 'pm', 'post_mortem', 'pprint', 're', 'run', 'runcall', 'runctx', 'runeval', 'set_trace', 'signal', 'sys', 'test', 'tokenize', 'traceback']\n"
     ]
    }
   ],
   "source": [
    "print(dir(pdb))"
   ]
  },
  {
   "cell_type": "markdown",
   "id": "fffd97d8-4a1c-4fa2-b965-a802bb8ce2a3",
   "metadata": {},
   "source": [
    "# Download Images Concurrently "
   ]
  },
  {
   "cell_type": "code",
   "execution_count": 43,
   "id": "f18a1b58-3390-4175-9071-bb957e97f9e8",
   "metadata": {},
   "outputs": [
    {
     "name": "stdout",
     "output_type": "stream",
     "text": [
      "Directory created\n",
      "Downloaded : https://unsplash.com/photos/purple-moth-orchids-in-bloom-PN8Un1ywbE8\n",
      "Downloaded : https://unsplash.com/photos/pink-and-white-flowers-in-tilt-shift-lens-TtDNu-Heh3Y\n",
      "Downloaded : https://unsplash.com/photos/pink-roses-in-water-during-daytime-JVqVrFOCd4Q\n",
      "All images downloaded\n"
     ]
    }
   ],
   "source": [
    "\n",
    "import os \n",
    "import requests\n",
    "import threading \n",
    "\n",
    "# Function to download an image from a URL\n",
    "\n",
    "def download_image(url,save_path):\n",
    "    try:\n",
    "        response = requests.get(url,stream = True)\n",
    "        response.raise_for_status()\n",
    "        \n",
    "        with open(save_path,'wb') as file:\n",
    "            for chunk in response.iter_content(chunk_size=8192):\n",
    "                file.write(chunk)\n",
    "        print(f'Downloaded : {url}')\n",
    "    except Exception as e:\n",
    "        print(f'Error downloading {url}: {e}')\n",
    "\n",
    "\n",
    "def create_directory(directory):\n",
    "    if not os.path.exists(directory):\n",
    "        os.makedirs(directory)\n",
    "        print(\"Directory created\")\n",
    "\n",
    "\n",
    "def download_images(image_urls,save_directory):\n",
    "    create_directory(save_directory)\n",
    "    threads=[]\n",
    "    for i,url in enumerate(image_urls):\n",
    "        save_path = os.path.join(save_directory,f\"image_{i+1}.jpg\")\n",
    "        thread = threading.Thread(target=download_image,args=(url,save_path))\n",
    "        threads.append(thread)\n",
    "        thread.start()\n",
    "\n",
    "    for thread in threads:\n",
    "        thread.join()\n",
    "\n",
    "if __name__=='__main__':\n",
    "       \n",
    "    \n",
    "    image_urls = [\n",
    "                    'https://unsplash.com/photos/pink-roses-in-water-during-daytime-JVqVrFOCd4Q',\n",
    "                    'https://unsplash.com/photos/purple-moth-orchids-in-bloom-PN8Un1ywbE8',\n",
    "                    'https://unsplash.com/photos/pink-and-white-flowers-in-tilt-shift-lens-TtDNu-Heh3Y'\n",
    "            ]\n",
    "\n",
    "    save_directory = r'c:\\Users\\soman\\Onedrive\\Desktop\\amns\\images'\n",
    "    download_images(image_urls,save_directory)\n",
    "\n",
    "    print('All images downloaded')\n",
    "\n",
    "\n",
    "\n",
    "\n"
   ]
  },
  {
   "cell_type": "code",
   "execution_count": null,
   "id": "a750e2c6-b8d3-4b3b-9d7d-e6180947eff0",
   "metadata": {},
   "outputs": [],
   "source": []
  }
 ],
 "metadata": {
  "kernelspec": {
   "display_name": "Python 3 (ipykernel)",
   "language": "python",
   "name": "python3"
  },
  "language_info": {
   "codemirror_mode": {
    "name": "ipython",
    "version": 3
   },
   "file_extension": ".py",
   "mimetype": "text/x-python",
   "name": "python",
   "nbconvert_exporter": "python",
   "pygments_lexer": "ipython3",
   "version": "3.11.5"
  }
 },
 "nbformat": 4,
 "nbformat_minor": 5
}
