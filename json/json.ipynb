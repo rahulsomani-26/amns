{
 "cells": [
  {
   "cell_type": "markdown",
   "id": "d619f671-380b-4642-b699-067cdf3cf3bd",
   "metadata": {},
   "source": [
    "# JSON\n",
    " - Lightweight Data Interchange Format \n"
   ]
  },
  {
   "cell_type": "markdown",
   "id": "754dbf2a-0244-40ac-8e02-2fc8b37e89ec",
   "metadata": {},
   "source": [
    "# JavaScript Object Notation \n",
    "- It is inspired by Javascript Object Literal Sytax \n",
    "- It is not a strict subset of JavaScript "
   ]
  },
  {
   "cell_type": "markdown",
   "id": "398bd6d4-9f79-4c94-a092-67632654c2bc",
   "metadata": {},
   "source": [
    "- pickle \n",
    "- json \n"
   ]
  },
  {
   "cell_type": "code",
   "execution_count": 1,
   "id": "5daa972c-3f27-4f13-b045-6f344a9753cd",
   "metadata": {},
   "outputs": [],
   "source": [
    "json_str = '''\n",
    "            {\n",
    "              \"name\":\"Rahul Somani\",\n",
    "              \"age\":45,\n",
    "              \"phoneNumbers\":[\n",
    "                          {\n",
    "                          \"type\":\"Home\",\n",
    "                          \"number\":\"(+91)123123123\"\n",
    "                          },\n",
    "                          {\n",
    "                          \"type\":\"Work\",\n",
    "                          \"number\":\"(+91)5646386352\"\n",
    "                          }\n",
    "              ],\n",
    "              \"spouse\":null,\n",
    "              \"children\":[],\n",
    "              \"employed\":true\n",
    "            }\n",
    "'''"
   ]
  },
  {
   "cell_type": "code",
   "execution_count": 2,
   "id": "f84e526e-2018-4e20-9e0a-537321a6ecf6",
   "metadata": {},
   "outputs": [
    {
     "data": {
      "text/plain": [
       "str"
      ]
     },
     "execution_count": 2,
     "metadata": {},
     "output_type": "execute_result"
    }
   ],
   "source": [
    "type(json_str)"
   ]
  },
  {
   "cell_type": "code",
   "execution_count": 3,
   "id": "55378eb3-168b-4501-b6d9-965c14bd2ee2",
   "metadata": {},
   "outputs": [
    {
     "data": {
      "text/plain": [
       "526"
      ]
     },
     "execution_count": 3,
     "metadata": {},
     "output_type": "execute_result"
    }
   ],
   "source": [
    "len(json_str)"
   ]
  },
  {
   "cell_type": "code",
   "execution_count": 4,
   "id": "c5aa4613-3aa9-4da8-ac45-94e86914b21a",
   "metadata": {},
   "outputs": [],
   "source": [
    "import json "
   ]
  },
  {
   "cell_type": "code",
   "execution_count": 5,
   "id": "6a53e757-b09e-47dd-826b-2550d6df6757",
   "metadata": {},
   "outputs": [
    {
     "data": {
      "text/plain": [
       "module"
      ]
     },
     "execution_count": 5,
     "metadata": {},
     "output_type": "execute_result"
    }
   ],
   "source": [
    "type(json)"
   ]
  },
  {
   "cell_type": "code",
   "execution_count": 6,
   "id": "9cf3877b-1fb0-4b6f-9f99-54fe5e758333",
   "metadata": {},
   "outputs": [
    {
     "name": "stdout",
     "output_type": "stream",
     "text": [
      "['JSONDecodeError', 'JSONDecoder', 'JSONEncoder', '__all__', '__author__', '__builtins__', '__cached__', '__doc__', '__file__', '__loader__', '__name__', '__package__', '__path__', '__spec__', '__version__', '_default_decoder', '_default_encoder', 'codecs', 'decoder', 'detect_encoding', 'dump', 'dumps', 'encoder', 'load', 'loads', 'scanner']\n"
     ]
    }
   ],
   "source": [
    "print(dir(json))"
   ]
  },
  {
   "cell_type": "code",
   "execution_count": 7,
   "id": "1d1b4134-643a-4d3e-b515-b29d7e7a5b75",
   "metadata": {},
   "outputs": [],
   "source": [
    "data = json.loads(json_str)"
   ]
  },
  {
   "cell_type": "code",
   "execution_count": 8,
   "id": "69665de6-4827-4ea4-99ce-110a31d8ced5",
   "metadata": {},
   "outputs": [
    {
     "data": {
      "text/plain": [
       "{'name': 'Rahul Somani',\n",
       " 'age': 45,\n",
       " 'phoneNumbers': [{'type': 'Home', 'number': '(+91)123123123'},\n",
       "  {'type': 'Work', 'number': '(+91)5646386352'}],\n",
       " 'spouse': None,\n",
       " 'children': [],\n",
       " 'employed': True}"
      ]
     },
     "execution_count": 8,
     "metadata": {},
     "output_type": "execute_result"
    }
   ],
   "source": [
    "data"
   ]
  },
  {
   "cell_type": "code",
   "execution_count": 9,
   "id": "12feee48-f70b-4299-b387-c0f4bacefc9c",
   "metadata": {},
   "outputs": [
    {
     "data": {
      "text/plain": [
       "dict"
      ]
     },
     "execution_count": 9,
     "metadata": {},
     "output_type": "execute_result"
    }
   ],
   "source": [
    "type(data)"
   ]
  },
  {
   "cell_type": "markdown",
   "id": "2d67bc97-eb71-4d40-85e6-f189673dd381",
   "metadata": {},
   "source": [
    "## The loads function takes in a json string and converts it into a python object "
   ]
  },
  {
   "cell_type": "code",
   "execution_count": 10,
   "id": "2d0f216d-518b-48ae-84bf-3fb72b26cd1b",
   "metadata": {},
   "outputs": [
    {
     "data": {
      "text/plain": [
       "45"
      ]
     },
     "execution_count": 10,
     "metadata": {},
     "output_type": "execute_result"
    }
   ],
   "source": [
    "data.get('age')"
   ]
  },
  {
   "cell_type": "code",
   "execution_count": 11,
   "id": "46b36425-8ddf-4657-a863-aa783385203b",
   "metadata": {},
   "outputs": [
    {
     "data": {
      "text/plain": [
       "45"
      ]
     },
     "execution_count": 11,
     "metadata": {},
     "output_type": "execute_result"
    }
   ],
   "source": [
    "data['age']"
   ]
  },
  {
   "cell_type": "code",
   "execution_count": 12,
   "id": "b591e035-f088-43c0-8c12-c86deae28b36",
   "metadata": {},
   "outputs": [
    {
     "ename": "KeyError",
     "evalue": "'ag'",
     "output_type": "error",
     "traceback": [
      "\u001b[1;31m---------------------------------------------------------------------------\u001b[0m",
      "\u001b[1;31mKeyError\u001b[0m                                  Traceback (most recent call last)",
      "Cell \u001b[1;32mIn[12], line 1\u001b[0m\n\u001b[1;32m----> 1\u001b[0m \u001b[43mdata\u001b[49m\u001b[43m[\u001b[49m\u001b[38;5;124;43m'\u001b[39;49m\u001b[38;5;124;43mag\u001b[39;49m\u001b[38;5;124;43m'\u001b[39;49m\u001b[43m]\u001b[49m\n",
      "\u001b[1;31mKeyError\u001b[0m: 'ag'"
     ]
    }
   ],
   "source": [
    "data['ag']"
   ]
  },
  {
   "cell_type": "code",
   "execution_count": 13,
   "id": "f2e19df9-eb3c-49bd-bdf1-4e2c2797bd83",
   "metadata": {},
   "outputs": [
    {
     "data": {
      "text/plain": [
       "'N/A'"
      ]
     },
     "execution_count": 13,
     "metadata": {},
     "output_type": "execute_result"
    }
   ],
   "source": [
    "data.get('ag','N/A')"
   ]
  },
  {
   "cell_type": "code",
   "execution_count": 14,
   "id": "0bd5d5b5-a21d-41a9-8e22-018fe2a4dc89",
   "metadata": {},
   "outputs": [
    {
     "data": {
      "text/plain": [
       "[{'type': 'Home', 'number': '(+91)123123123'},\n",
       " {'type': 'Work', 'number': '(+91)5646386352'}]"
      ]
     },
     "execution_count": 14,
     "metadata": {},
     "output_type": "execute_result"
    }
   ],
   "source": [
    "data.get('phoneNumbers')"
   ]
  },
  {
   "cell_type": "code",
   "execution_count": 15,
   "id": "d587b557-4c1c-476c-b8e6-965a7d405675",
   "metadata": {},
   "outputs": [
    {
     "data": {
      "text/plain": [
       "{'type': 'Work', 'number': '(+91)5646386352'}"
      ]
     },
     "execution_count": 15,
     "metadata": {},
     "output_type": "execute_result"
    }
   ],
   "source": [
    "data.get('phoneNumbers')[1]\n"
   ]
  },
  {
   "cell_type": "code",
   "execution_count": 16,
   "id": "8d22435f-d647-4e45-8e41-05876b6b6a89",
   "metadata": {},
   "outputs": [
    {
     "data": {
      "text/plain": [
       "'(+91)5646386352'"
      ]
     },
     "execution_count": 16,
     "metadata": {},
     "output_type": "execute_result"
    }
   ],
   "source": [
    "data.get('phoneNumbers')[1].get('number')\n"
   ]
  },
  {
   "cell_type": "markdown",
   "id": "986fd866-29dc-418e-9e62-fbc0bd01816b",
   "metadata": {},
   "source": [
    "### Reverse is also possible. Converting a python object into a json string "
   ]
  },
  {
   "cell_type": "code",
   "execution_count": 17,
   "id": "6fc0949c-cbe3-4d61-8fb2-04ba43ecd5dd",
   "metadata": {},
   "outputs": [],
   "source": [
    "json_data = json.dumps(data)"
   ]
  },
  {
   "cell_type": "code",
   "execution_count": 18,
   "id": "928154ae-406b-4b6d-84e7-9d5a2c57edd3",
   "metadata": {},
   "outputs": [
    {
     "data": {
      "text/plain": [
       "'{\"name\": \"Rahul Somani\", \"age\": 45, \"phoneNumbers\": [{\"type\": \"Home\", \"number\": \"(+91)123123123\"}, {\"type\": \"Work\", \"number\": \"(+91)5646386352\"}], \"spouse\": null, \"children\": [], \"employed\": true}'"
      ]
     },
     "execution_count": 18,
     "metadata": {},
     "output_type": "execute_result"
    }
   ],
   "source": [
    "json_data"
   ]
  },
  {
   "cell_type": "markdown",
   "id": "a5725ad2-78ee-44b6-9b14-c5485e8a8d7f",
   "metadata": {},
   "source": [
    "` Write a function that counts the number of opening and closing braces { ,} `"
   ]
  },
  {
   "cell_type": "code",
   "execution_count": 19,
   "id": "9ca07e49-6219-4650-8b31-0ce822c345c5",
   "metadata": {},
   "outputs": [],
   "source": [
    "def count_braces(text):\n",
    "    open,close=0,0\n",
    "    for ch in text:\n",
    "        if ch=='{':\n",
    "            open+=1\n",
    "        elif ch=='}':\n",
    "            close+=1\n",
    "        else:\n",
    "            continue\n",
    "    return open,close\n",
    "    \n",
    "    "
   ]
  },
  {
   "cell_type": "code",
   "execution_count": 20,
   "id": "5f2ba37a-31d7-4983-a437-ed950acf334a",
   "metadata": {},
   "outputs": [
    {
     "data": {
      "text/plain": [
       "(3, 3)"
      ]
     },
     "execution_count": 20,
     "metadata": {},
     "output_type": "execute_result"
    }
   ],
   "source": [
    "count_braces(json_data)"
   ]
  },
  {
   "cell_type": "code",
   "execution_count": 21,
   "id": "10e8077e-c531-49f9-ad3d-7acf8d6858a8",
   "metadata": {},
   "outputs": [],
   "source": [
    "from datetime import datetime \n",
    "d = {\n",
    "    \"name\":\"Abhishek\",\n",
    "    \"dob\":datetime(1993,5,24)\n",
    "}"
   ]
  },
  {
   "cell_type": "code",
   "execution_count": 22,
   "id": "f35a0007-b081-4e48-b8ad-772305777f1e",
   "metadata": {},
   "outputs": [
    {
     "data": {
      "text/plain": [
       "{'name': 'Abhishek', 'dob': datetime.datetime(1993, 5, 24, 0, 0)}"
      ]
     },
     "execution_count": 22,
     "metadata": {},
     "output_type": "execute_result"
    }
   ],
   "source": [
    "d"
   ]
  },
  {
   "cell_type": "code",
   "execution_count": 23,
   "id": "1e49b6b0-a8f4-4e68-81c4-2179cea3d781",
   "metadata": {},
   "outputs": [
    {
     "ename": "TypeError",
     "evalue": "Object of type datetime is not JSON serializable",
     "output_type": "error",
     "traceback": [
      "\u001b[1;31m---------------------------------------------------------------------------\u001b[0m",
      "\u001b[1;31mTypeError\u001b[0m                                 Traceback (most recent call last)",
      "Cell \u001b[1;32mIn[23], line 1\u001b[0m\n\u001b[1;32m----> 1\u001b[0m json_data \u001b[38;5;241m=\u001b[39m \u001b[43mjson\u001b[49m\u001b[38;5;241;43m.\u001b[39;49m\u001b[43mdumps\u001b[49m\u001b[43m(\u001b[49m\u001b[43md\u001b[49m\u001b[43m)\u001b[49m\n",
      "File \u001b[1;32m~\\AppData\\Local\\Programs\\Python\\Python311\\Lib\\json\\__init__.py:231\u001b[0m, in \u001b[0;36mdumps\u001b[1;34m(obj, skipkeys, ensure_ascii, check_circular, allow_nan, cls, indent, separators, default, sort_keys, **kw)\u001b[0m\n\u001b[0;32m    226\u001b[0m \u001b[38;5;66;03m# cached encoder\u001b[39;00m\n\u001b[0;32m    227\u001b[0m \u001b[38;5;28;01mif\u001b[39;00m (\u001b[38;5;129;01mnot\u001b[39;00m skipkeys \u001b[38;5;129;01mand\u001b[39;00m ensure_ascii \u001b[38;5;129;01mand\u001b[39;00m\n\u001b[0;32m    228\u001b[0m     check_circular \u001b[38;5;129;01mand\u001b[39;00m allow_nan \u001b[38;5;129;01mand\u001b[39;00m\n\u001b[0;32m    229\u001b[0m     \u001b[38;5;28mcls\u001b[39m \u001b[38;5;129;01mis\u001b[39;00m \u001b[38;5;28;01mNone\u001b[39;00m \u001b[38;5;129;01mand\u001b[39;00m indent \u001b[38;5;129;01mis\u001b[39;00m \u001b[38;5;28;01mNone\u001b[39;00m \u001b[38;5;129;01mand\u001b[39;00m separators \u001b[38;5;129;01mis\u001b[39;00m \u001b[38;5;28;01mNone\u001b[39;00m \u001b[38;5;129;01mand\u001b[39;00m\n\u001b[0;32m    230\u001b[0m     default \u001b[38;5;129;01mis\u001b[39;00m \u001b[38;5;28;01mNone\u001b[39;00m \u001b[38;5;129;01mand\u001b[39;00m \u001b[38;5;129;01mnot\u001b[39;00m sort_keys \u001b[38;5;129;01mand\u001b[39;00m \u001b[38;5;129;01mnot\u001b[39;00m kw):\n\u001b[1;32m--> 231\u001b[0m     \u001b[38;5;28;01mreturn\u001b[39;00m \u001b[43m_default_encoder\u001b[49m\u001b[38;5;241;43m.\u001b[39;49m\u001b[43mencode\u001b[49m\u001b[43m(\u001b[49m\u001b[43mobj\u001b[49m\u001b[43m)\u001b[49m\n\u001b[0;32m    232\u001b[0m \u001b[38;5;28;01mif\u001b[39;00m \u001b[38;5;28mcls\u001b[39m \u001b[38;5;129;01mis\u001b[39;00m \u001b[38;5;28;01mNone\u001b[39;00m:\n\u001b[0;32m    233\u001b[0m     \u001b[38;5;28mcls\u001b[39m \u001b[38;5;241m=\u001b[39m JSONEncoder\n",
      "File \u001b[1;32m~\\AppData\\Local\\Programs\\Python\\Python311\\Lib\\json\\encoder.py:200\u001b[0m, in \u001b[0;36mJSONEncoder.encode\u001b[1;34m(self, o)\u001b[0m\n\u001b[0;32m    196\u001b[0m         \u001b[38;5;28;01mreturn\u001b[39;00m encode_basestring(o)\n\u001b[0;32m    197\u001b[0m \u001b[38;5;66;03m# This doesn't pass the iterator directly to ''.join() because the\u001b[39;00m\n\u001b[0;32m    198\u001b[0m \u001b[38;5;66;03m# exceptions aren't as detailed.  The list call should be roughly\u001b[39;00m\n\u001b[0;32m    199\u001b[0m \u001b[38;5;66;03m# equivalent to the PySequence_Fast that ''.join() would do.\u001b[39;00m\n\u001b[1;32m--> 200\u001b[0m chunks \u001b[38;5;241m=\u001b[39m \u001b[38;5;28;43mself\u001b[39;49m\u001b[38;5;241;43m.\u001b[39;49m\u001b[43miterencode\u001b[49m\u001b[43m(\u001b[49m\u001b[43mo\u001b[49m\u001b[43m,\u001b[49m\u001b[43m \u001b[49m\u001b[43m_one_shot\u001b[49m\u001b[38;5;241;43m=\u001b[39;49m\u001b[38;5;28;43;01mTrue\u001b[39;49;00m\u001b[43m)\u001b[49m\n\u001b[0;32m    201\u001b[0m \u001b[38;5;28;01mif\u001b[39;00m \u001b[38;5;129;01mnot\u001b[39;00m \u001b[38;5;28misinstance\u001b[39m(chunks, (\u001b[38;5;28mlist\u001b[39m, \u001b[38;5;28mtuple\u001b[39m)):\n\u001b[0;32m    202\u001b[0m     chunks \u001b[38;5;241m=\u001b[39m \u001b[38;5;28mlist\u001b[39m(chunks)\n",
      "File \u001b[1;32m~\\AppData\\Local\\Programs\\Python\\Python311\\Lib\\json\\encoder.py:258\u001b[0m, in \u001b[0;36mJSONEncoder.iterencode\u001b[1;34m(self, o, _one_shot)\u001b[0m\n\u001b[0;32m    253\u001b[0m \u001b[38;5;28;01melse\u001b[39;00m:\n\u001b[0;32m    254\u001b[0m     _iterencode \u001b[38;5;241m=\u001b[39m _make_iterencode(\n\u001b[0;32m    255\u001b[0m         markers, \u001b[38;5;28mself\u001b[39m\u001b[38;5;241m.\u001b[39mdefault, _encoder, \u001b[38;5;28mself\u001b[39m\u001b[38;5;241m.\u001b[39mindent, floatstr,\n\u001b[0;32m    256\u001b[0m         \u001b[38;5;28mself\u001b[39m\u001b[38;5;241m.\u001b[39mkey_separator, \u001b[38;5;28mself\u001b[39m\u001b[38;5;241m.\u001b[39mitem_separator, \u001b[38;5;28mself\u001b[39m\u001b[38;5;241m.\u001b[39msort_keys,\n\u001b[0;32m    257\u001b[0m         \u001b[38;5;28mself\u001b[39m\u001b[38;5;241m.\u001b[39mskipkeys, _one_shot)\n\u001b[1;32m--> 258\u001b[0m \u001b[38;5;28;01mreturn\u001b[39;00m \u001b[43m_iterencode\u001b[49m\u001b[43m(\u001b[49m\u001b[43mo\u001b[49m\u001b[43m,\u001b[49m\u001b[43m \u001b[49m\u001b[38;5;241;43m0\u001b[39;49m\u001b[43m)\u001b[49m\n",
      "File \u001b[1;32m~\\AppData\\Local\\Programs\\Python\\Python311\\Lib\\json\\encoder.py:180\u001b[0m, in \u001b[0;36mJSONEncoder.default\u001b[1;34m(self, o)\u001b[0m\n\u001b[0;32m    161\u001b[0m \u001b[38;5;28;01mdef\u001b[39;00m \u001b[38;5;21mdefault\u001b[39m(\u001b[38;5;28mself\u001b[39m, o):\n\u001b[0;32m    162\u001b[0m \u001b[38;5;250m    \u001b[39m\u001b[38;5;124;03m\"\"\"Implement this method in a subclass such that it returns\u001b[39;00m\n\u001b[0;32m    163\u001b[0m \u001b[38;5;124;03m    a serializable object for ``o``, or calls the base implementation\u001b[39;00m\n\u001b[0;32m    164\u001b[0m \u001b[38;5;124;03m    (to raise a ``TypeError``).\u001b[39;00m\n\u001b[1;32m   (...)\u001b[0m\n\u001b[0;32m    178\u001b[0m \n\u001b[0;32m    179\u001b[0m \u001b[38;5;124;03m    \"\"\"\u001b[39;00m\n\u001b[1;32m--> 180\u001b[0m     \u001b[38;5;28;01mraise\u001b[39;00m \u001b[38;5;167;01mTypeError\u001b[39;00m(\u001b[38;5;124mf\u001b[39m\u001b[38;5;124m'\u001b[39m\u001b[38;5;124mObject of type \u001b[39m\u001b[38;5;132;01m{\u001b[39;00mo\u001b[38;5;241m.\u001b[39m\u001b[38;5;18m__class__\u001b[39m\u001b[38;5;241m.\u001b[39m\u001b[38;5;18m__name__\u001b[39m\u001b[38;5;132;01m}\u001b[39;00m\u001b[38;5;124m \u001b[39m\u001b[38;5;124m'\u001b[39m\n\u001b[0;32m    181\u001b[0m                     \u001b[38;5;124mf\u001b[39m\u001b[38;5;124m'\u001b[39m\u001b[38;5;124mis not JSON serializable\u001b[39m\u001b[38;5;124m'\u001b[39m)\n",
      "\u001b[1;31mTypeError\u001b[0m: Object of type datetime is not JSON serializable"
     ]
    }
   ],
   "source": [
    "json_data = json.dumps(d)"
   ]
  },
  {
   "cell_type": "code",
   "execution_count": 24,
   "id": "ef90618e-e83a-4f51-a12e-40e0aa88c6eb",
   "metadata": {},
   "outputs": [
    {
     "name": "stdout",
     "output_type": "stream",
     "text": [
      "TypeError('Object of type datetime is not JSON serializable')\n"
     ]
    }
   ],
   "source": [
    "try:\n",
    "    json_data = json.dumps(d)\n",
    "except TypeError as e:\n",
    "    print(repr(e))"
   ]
  },
  {
   "cell_type": "markdown",
   "id": "0a3810bb-215d-40ec-ad0c-6655104dd1fc",
   "metadata": {},
   "source": [
    "` When json module does not understand an object to be serialized, it raises an TypeError Exception. Sometime, we can handle \n",
    "this, by writing custom function that will be passed as an argument to the dumps() function, and if the dumps() is not able to serialize it will \n",
    "pass the object to our custom function. Now it is upto us how we serialize the data and if it is not possible, we can raise a TypeError`"
   ]
  },
  {
   "cell_type": "code",
   "execution_count": 25,
   "id": "8aacba71-fc0e-4891-9a6a-d220b2c23738",
   "metadata": {},
   "outputs": [],
   "source": [
    "def custom_encoder(obj):\n",
    "    if isinstance(obj,datetime):\n",
    "        return obj.isoformat()\n",
    "    else:\n",
    "        raise TypeError "
   ]
  },
  {
   "cell_type": "code",
   "execution_count": 26,
   "id": "4789da84-3047-4c9d-8461-a2049e4fe82f",
   "metadata": {},
   "outputs": [],
   "source": [
    "json_data = json.dumps(d,default=custom_encoder)"
   ]
  },
  {
   "cell_type": "code",
   "execution_count": 27,
   "id": "fd4a4034-44e4-45ad-aaad-eb45af618fca",
   "metadata": {},
   "outputs": [
    {
     "data": {
      "text/plain": [
       "'{\"name\": \"Abhishek\", \"dob\": \"1993-05-24T00:00:00\"}'"
      ]
     },
     "execution_count": 27,
     "metadata": {},
     "output_type": "execute_result"
    }
   ],
   "source": [
    "json_data"
   ]
  },
  {
   "cell_type": "code",
   "execution_count": 28,
   "id": "2cf1987c-7e13-4219-9340-808715767354",
   "metadata": {},
   "outputs": [
    {
     "name": "stdout",
     "output_type": "stream",
     "text": [
      "Help on function dumps in module json:\n",
      "\n",
      "dumps(obj, *, skipkeys=False, ensure_ascii=True, check_circular=True, allow_nan=True, cls=None, indent=None, separators=None, default=None, sort_keys=False, **kw)\n",
      "    Serialize ``obj`` to a JSON formatted ``str``.\n",
      "    \n",
      "    If ``skipkeys`` is true then ``dict`` keys that are not basic types\n",
      "    (``str``, ``int``, ``float``, ``bool``, ``None``) will be skipped\n",
      "    instead of raising a ``TypeError``.\n",
      "    \n",
      "    If ``ensure_ascii`` is false, then the return value can contain non-ASCII\n",
      "    characters if they appear in strings contained in ``obj``. Otherwise, all\n",
      "    such characters are escaped in JSON strings.\n",
      "    \n",
      "    If ``check_circular`` is false, then the circular reference check\n",
      "    for container types will be skipped and a circular reference will\n",
      "    result in an ``RecursionError`` (or worse).\n",
      "    \n",
      "    If ``allow_nan`` is false, then it will be a ``ValueError`` to\n",
      "    serialize out of range ``float`` values (``nan``, ``inf``, ``-inf``) in\n",
      "    strict compliance of the JSON specification, instead of using the\n",
      "    JavaScript equivalents (``NaN``, ``Infinity``, ``-Infinity``).\n",
      "    \n",
      "    If ``indent`` is a non-negative integer, then JSON array elements and\n",
      "    object members will be pretty-printed with that indent level. An indent\n",
      "    level of 0 will only insert newlines. ``None`` is the most compact\n",
      "    representation.\n",
      "    \n",
      "    If specified, ``separators`` should be an ``(item_separator, key_separator)``\n",
      "    tuple.  The default is ``(', ', ': ')`` if *indent* is ``None`` and\n",
      "    ``(',', ': ')`` otherwise.  To get the most compact JSON representation,\n",
      "    you should specify ``(',', ':')`` to eliminate whitespace.\n",
      "    \n",
      "    ``default(obj)`` is a function that should return a serializable version\n",
      "    of obj or raise TypeError. The default simply raises TypeError.\n",
      "    \n",
      "    If *sort_keys* is true (default: ``False``), then the output of\n",
      "    dictionaries will be sorted by key.\n",
      "    \n",
      "    To use a custom ``JSONEncoder`` subclass (e.g. one that overrides the\n",
      "    ``.default()`` method to serialize additional types), specify it with\n",
      "    the ``cls`` kwarg; otherwise ``JSONEncoder`` is used.\n",
      "\n"
     ]
    }
   ],
   "source": [
    "help(json.dumps)"
   ]
  },
  {
   "cell_type": "code",
   "execution_count": 29,
   "id": "3c787113-4bd7-4356-b150-f66ed7f9c7bb",
   "metadata": {},
   "outputs": [],
   "source": [
    "obj = r'\\abc\\\\def'"
   ]
  },
  {
   "cell_type": "code",
   "execution_count": 30,
   "id": "2959abdd-5c03-4bb2-af04-0f9e4c71d95f",
   "metadata": {},
   "outputs": [
    {
     "data": {
      "text/plain": [
       "'\\\\abc\\\\\\\\def'"
      ]
     },
     "execution_count": 30,
     "metadata": {},
     "output_type": "execute_result"
    }
   ],
   "source": [
    "obj"
   ]
  },
  {
   "cell_type": "code",
   "execution_count": 31,
   "id": "9011059a-39a0-4325-9c65-e54efb298d6f",
   "metadata": {},
   "outputs": [
    {
     "data": {
      "text/plain": [
       "'\"\\\\\\\\abc\\\\\\\\\\\\\\\\def\"'"
      ]
     },
     "execution_count": 31,
     "metadata": {},
     "output_type": "execute_result"
    }
   ],
   "source": [
    "json.dumps(obj)"
   ]
  },
  {
   "cell_type": "code",
   "execution_count": 32,
   "id": "db1387c6-5069-481f-ad4a-cf560a52e308",
   "metadata": {},
   "outputs": [
    {
     "data": {
      "text/plain": [
       "'true'"
      ]
     },
     "execution_count": 32,
     "metadata": {},
     "output_type": "execute_result"
    }
   ],
   "source": [
    "json.dumps(True)"
   ]
  },
  {
   "cell_type": "code",
   "execution_count": 33,
   "id": "279b8a6a-a64d-4032-ad60-860e11562b03",
   "metadata": {},
   "outputs": [
    {
     "data": {
      "text/plain": [
       "'null'"
      ]
     },
     "execution_count": 33,
     "metadata": {},
     "output_type": "execute_result"
    }
   ],
   "source": [
    "json.dumps(None)"
   ]
  },
  {
   "cell_type": "code",
   "execution_count": 34,
   "id": "7d148181-d779-4d79-a51b-39639ee61ab7",
   "metadata": {},
   "outputs": [
    {
     "data": {
      "text/plain": [
       "'[1, 23, 4]'"
      ]
     },
     "execution_count": 34,
     "metadata": {},
     "output_type": "execute_result"
    }
   ],
   "source": [
    "json.dumps([1,23,4])"
   ]
  },
  {
   "cell_type": "code",
   "execution_count": 35,
   "id": "8512eca5-3b61-4373-9901-21d2573afd89",
   "metadata": {},
   "outputs": [
    {
     "name": "stdout",
     "output_type": "stream",
     "text": [
      "{\"a\": 3, \"b\": 2, \"c\": 0}\n"
     ]
    }
   ],
   "source": [
    "print(json.dumps({\"c\":0,\"b\":2,\"a\":3}, sort_keys=True))"
   ]
  },
  {
   "cell_type": "code",
   "execution_count": 36,
   "id": "59143b75-ddc9-47ce-afc5-dfecb35e8fbb",
   "metadata": {},
   "outputs": [
    {
     "data": {
      "text/plain": [
       "'[1,2,\"me\",{\"brother\"&\"you\",\"sister\"&\"she\",\"wife\"&null}]'"
      ]
     },
     "execution_count": 36,
     "metadata": {},
     "output_type": "execute_result"
    }
   ],
   "source": [
    "json.dumps([1,2,\"me\",{\"brother\":\"you\",\"sister\":\"she\",\"wife\":None}],separators=(',',\"&\"))"
   ]
  },
  {
   "cell_type": "markdown",
   "id": "30df4d60-f353-48c1-9b2e-39b4c493bde2",
   "metadata": {},
   "source": [
    "# Pretty Printing "
   ]
  },
  {
   "cell_type": "code",
   "execution_count": 37,
   "id": "e2820d88-6310-40b9-b066-f219641b75e3",
   "metadata": {},
   "outputs": [],
   "source": [
    "json_str = '''\n",
    "            {\n",
    "              \"name\":\"Rahul Somani\",\n",
    "              \"age\":45,\n",
    "              \"phoneNumbers\":[\n",
    "                          {\n",
    "                          \"type\":\"Home\",\n",
    "                          \"number\":\"(+91)123123123\"\n",
    "                          },\n",
    "                          {\n",
    "                          \"type\":\"Work\",\n",
    "                          \"number\":\"(+91)5646386352\"\n",
    "                          }\n",
    "              ],\n",
    "              \"spouse\":null,\n",
    "              \"children\":[],\n",
    "              \"employed\":true\n",
    "            }\n",
    "'''"
   ]
  },
  {
   "cell_type": "code",
   "execution_count": 38,
   "id": "f52e4523-1b2c-42c4-8087-a13fcffdca45",
   "metadata": {},
   "outputs": [],
   "source": [
    "json_data = json.dumps(data,indent=4)"
   ]
  },
  {
   "cell_type": "code",
   "execution_count": 39,
   "id": "28db9448-1a98-4b82-bca5-4f355b1d5918",
   "metadata": {},
   "outputs": [
    {
     "data": {
      "text/plain": [
       "'{\\n    \"name\": \"Rahul Somani\",\\n    \"age\": 45,\\n    \"phoneNumbers\": [\\n        {\\n            \"type\": \"Home\",\\n            \"number\": \"(+91)123123123\"\\n        },\\n        {\\n            \"type\": \"Work\",\\n            \"number\": \"(+91)5646386352\"\\n        }\\n    ],\\n    \"spouse\": null,\\n    \"children\": [],\\n    \"employed\": true\\n}'"
      ]
     },
     "execution_count": 39,
     "metadata": {},
     "output_type": "execute_result"
    }
   ],
   "source": [
    "json_data"
   ]
  },
  {
   "cell_type": "code",
   "execution_count": 69,
   "id": "6833f6ae-3375-4581-a2b3-92042d032e0f",
   "metadata": {},
   "outputs": [],
   "source": [
    "json_data = json.dumps(data,indent=8)"
   ]
  },
  {
   "cell_type": "code",
   "execution_count": 70,
   "id": "144a3e6f-a59b-4f9a-8f95-44056592f156",
   "metadata": {},
   "outputs": [
    {
     "data": {
      "text/plain": [
       "'{\\n        \"name\": \"Rahul Somani\",\\n        \"age\": 45,\\n        \"phoneNumbers\": [\\n                {\\n                        \"type\": \"Home\",\\n                        \"number\": \"(+91)123123123\"\\n                },\\n                {\\n                        \"type\": \"Work\",\\n                        \"number\": \"(+91)5646386352\"\\n                }\\n        ],\\n        \"spouse\": null,\\n        \"children\": [],\\n        \"employed\": true\\n}'"
      ]
     },
     "execution_count": 70,
     "metadata": {},
     "output_type": "execute_result"
    }
   ],
   "source": [
    "json_data\n"
   ]
  },
  {
   "cell_type": "code",
   "execution_count": 71,
   "id": "d96645d8-0fe4-4600-a128-c34cb8a449d5",
   "metadata": {},
   "outputs": [
    {
     "name": "stdout",
     "output_type": "stream",
     "text": [
      "{\n",
      "        \"name\": \"Rahul Somani\",\n",
      "        \"age\": 45,\n",
      "        \"phoneNumbers\": [\n",
      "                {\n",
      "                        \"type\": \"Home\",\n",
      "                        \"number\": \"(+91)123123123\"\n",
      "                },\n",
      "                {\n",
      "                        \"type\": \"Work\",\n",
      "                        \"number\": \"(+91)5646386352\"\n",
      "                }\n",
      "        ],\n",
      "        \"spouse\": null,\n",
      "        \"children\": [],\n",
      "        \"employed\": true\n",
      "}\n"
     ]
    }
   ],
   "source": [
    "print(json_data)"
   ]
  },
  {
   "cell_type": "code",
   "execution_count": 43,
   "id": "7d434231-7943-4c2f-8ed8-4eaebfea3bb1",
   "metadata": {},
   "outputs": [],
   "source": [
    "json_data = json.dumps(data,sort_keys=True)"
   ]
  },
  {
   "cell_type": "code",
   "execution_count": 44,
   "id": "99ce3b8f-1d6e-48b5-91a9-ad818548744a",
   "metadata": {},
   "outputs": [
    {
     "name": "stdout",
     "output_type": "stream",
     "text": [
      "{\"age\": 45, \"children\": [], \"employed\": true, \"name\": \"Rahul Somani\", \"phoneNumbers\": [{\"number\": \"(+91)123123123\", \"type\": \"Home\"}, {\"number\": \"(+91)5646386352\", \"type\": \"Work\"}], \"spouse\": null}\n"
     ]
    }
   ],
   "source": [
    "print(json_data)"
   ]
  },
  {
   "cell_type": "code",
   "execution_count": 45,
   "id": "1170b647-3def-44dc-bbac-e630723ca082",
   "metadata": {},
   "outputs": [
    {
     "data": {
      "text/plain": [
       "'{\"age\": 45, \"children\": [], \"employed\": true, \"name\": \"Rahul Somani\", \"phoneNumbers\": [{\"number\": \"(+91)123123123\", \"type\": \"Home\"}, {\"number\": \"(+91)5646386352\", \"type\": \"Work\"}], \"spouse\": null}'"
      ]
     },
     "execution_count": 45,
     "metadata": {},
     "output_type": "execute_result"
    }
   ],
   "source": [
    "json_data"
   ]
  },
  {
   "cell_type": "markdown",
   "id": "d166879d-274c-4af7-976f-a26568065818",
   "metadata": {},
   "source": [
    "# Decoding JSON "
   ]
  },
  {
   "cell_type": "code",
   "execution_count": 46,
   "id": "ef96f32c-f13c-4f8f-8e72-6c10459124b8",
   "metadata": {},
   "outputs": [],
   "source": [
    "json_data = '''\n",
    "        [\"Hello\",\"World\"],\n",
    "        {\n",
    "        \"k1\":1,\n",
    "        \"k2\":2,\n",
    "        \"k3\":null,\n",
    "        }\n",
    "'''"
   ]
  },
  {
   "cell_type": "code",
   "execution_count": 47,
   "id": "e2a080db-4bfb-41e1-a6dd-c131686d3bf5",
   "metadata": {},
   "outputs": [
    {
     "ename": "JSONDecodeError",
     "evalue": "Extra data: line 2 column 26 (char 26)",
     "output_type": "error",
     "traceback": [
      "\u001b[1;31m---------------------------------------------------------------------------\u001b[0m",
      "\u001b[1;31mJSONDecodeError\u001b[0m                           Traceback (most recent call last)",
      "Cell \u001b[1;32mIn[47], line 1\u001b[0m\n\u001b[1;32m----> 1\u001b[0m \u001b[43mjson\u001b[49m\u001b[38;5;241;43m.\u001b[39;49m\u001b[43mloads\u001b[49m\u001b[43m(\u001b[49m\u001b[43mjson_data\u001b[49m\u001b[43m)\u001b[49m\n",
      "File \u001b[1;32m~\\AppData\\Local\\Programs\\Python\\Python311\\Lib\\json\\__init__.py:346\u001b[0m, in \u001b[0;36mloads\u001b[1;34m(s, cls, object_hook, parse_float, parse_int, parse_constant, object_pairs_hook, **kw)\u001b[0m\n\u001b[0;32m    341\u001b[0m     s \u001b[38;5;241m=\u001b[39m s\u001b[38;5;241m.\u001b[39mdecode(detect_encoding(s), \u001b[38;5;124m'\u001b[39m\u001b[38;5;124msurrogatepass\u001b[39m\u001b[38;5;124m'\u001b[39m)\n\u001b[0;32m    343\u001b[0m \u001b[38;5;28;01mif\u001b[39;00m (\u001b[38;5;28mcls\u001b[39m \u001b[38;5;129;01mis\u001b[39;00m \u001b[38;5;28;01mNone\u001b[39;00m \u001b[38;5;129;01mand\u001b[39;00m object_hook \u001b[38;5;129;01mis\u001b[39;00m \u001b[38;5;28;01mNone\u001b[39;00m \u001b[38;5;129;01mand\u001b[39;00m\n\u001b[0;32m    344\u001b[0m         parse_int \u001b[38;5;129;01mis\u001b[39;00m \u001b[38;5;28;01mNone\u001b[39;00m \u001b[38;5;129;01mand\u001b[39;00m parse_float \u001b[38;5;129;01mis\u001b[39;00m \u001b[38;5;28;01mNone\u001b[39;00m \u001b[38;5;129;01mand\u001b[39;00m\n\u001b[0;32m    345\u001b[0m         parse_constant \u001b[38;5;129;01mis\u001b[39;00m \u001b[38;5;28;01mNone\u001b[39;00m \u001b[38;5;129;01mand\u001b[39;00m object_pairs_hook \u001b[38;5;129;01mis\u001b[39;00m \u001b[38;5;28;01mNone\u001b[39;00m \u001b[38;5;129;01mand\u001b[39;00m \u001b[38;5;129;01mnot\u001b[39;00m kw):\n\u001b[1;32m--> 346\u001b[0m     \u001b[38;5;28;01mreturn\u001b[39;00m \u001b[43m_default_decoder\u001b[49m\u001b[38;5;241;43m.\u001b[39;49m\u001b[43mdecode\u001b[49m\u001b[43m(\u001b[49m\u001b[43ms\u001b[49m\u001b[43m)\u001b[49m\n\u001b[0;32m    347\u001b[0m \u001b[38;5;28;01mif\u001b[39;00m \u001b[38;5;28mcls\u001b[39m \u001b[38;5;129;01mis\u001b[39;00m \u001b[38;5;28;01mNone\u001b[39;00m:\n\u001b[0;32m    348\u001b[0m     \u001b[38;5;28mcls\u001b[39m \u001b[38;5;241m=\u001b[39m JSONDecoder\n",
      "File \u001b[1;32m~\\AppData\\Local\\Programs\\Python\\Python311\\Lib\\json\\decoder.py:340\u001b[0m, in \u001b[0;36mJSONDecoder.decode\u001b[1;34m(self, s, _w)\u001b[0m\n\u001b[0;32m    338\u001b[0m end \u001b[38;5;241m=\u001b[39m _w(s, end)\u001b[38;5;241m.\u001b[39mend()\n\u001b[0;32m    339\u001b[0m \u001b[38;5;28;01mif\u001b[39;00m end \u001b[38;5;241m!=\u001b[39m \u001b[38;5;28mlen\u001b[39m(s):\n\u001b[1;32m--> 340\u001b[0m     \u001b[38;5;28;01mraise\u001b[39;00m JSONDecodeError(\u001b[38;5;124m\"\u001b[39m\u001b[38;5;124mExtra data\u001b[39m\u001b[38;5;124m\"\u001b[39m, s, end)\n\u001b[0;32m    341\u001b[0m \u001b[38;5;28;01mreturn\u001b[39;00m obj\n",
      "\u001b[1;31mJSONDecodeError\u001b[0m: Extra data: line 2 column 26 (char 26)"
     ]
    }
   ],
   "source": [
    "json.loads(json_data)"
   ]
  },
  {
   "cell_type": "code",
   "execution_count": 48,
   "id": "9fe93778-072a-4f8f-8f3e-6a7614bf81fe",
   "metadata": {},
   "outputs": [],
   "source": [
    "json_data = '''\n",
    "{\n",
    "        [\"Hello\",\"World\"],\n",
    "        {\n",
    "        \"k1\":1,\n",
    "        \"k2\":2,\n",
    "        \"k3\":null,\n",
    "        }\n",
    " }\n",
    "'''"
   ]
  },
  {
   "cell_type": "code",
   "execution_count": 49,
   "id": "eec28221-606d-41d5-930a-75dc7204330f",
   "metadata": {},
   "outputs": [
    {
     "ename": "JSONDecodeError",
     "evalue": "Expecting property name enclosed in double quotes: line 3 column 9 (char 11)",
     "output_type": "error",
     "traceback": [
      "\u001b[1;31m---------------------------------------------------------------------------\u001b[0m",
      "\u001b[1;31mJSONDecodeError\u001b[0m                           Traceback (most recent call last)",
      "Cell \u001b[1;32mIn[49], line 1\u001b[0m\n\u001b[1;32m----> 1\u001b[0m \u001b[43mjson\u001b[49m\u001b[38;5;241;43m.\u001b[39;49m\u001b[43mloads\u001b[49m\u001b[43m(\u001b[49m\u001b[43mjson_data\u001b[49m\u001b[43m)\u001b[49m\n",
      "File \u001b[1;32m~\\AppData\\Local\\Programs\\Python\\Python311\\Lib\\json\\__init__.py:346\u001b[0m, in \u001b[0;36mloads\u001b[1;34m(s, cls, object_hook, parse_float, parse_int, parse_constant, object_pairs_hook, **kw)\u001b[0m\n\u001b[0;32m    341\u001b[0m     s \u001b[38;5;241m=\u001b[39m s\u001b[38;5;241m.\u001b[39mdecode(detect_encoding(s), \u001b[38;5;124m'\u001b[39m\u001b[38;5;124msurrogatepass\u001b[39m\u001b[38;5;124m'\u001b[39m)\n\u001b[0;32m    343\u001b[0m \u001b[38;5;28;01mif\u001b[39;00m (\u001b[38;5;28mcls\u001b[39m \u001b[38;5;129;01mis\u001b[39;00m \u001b[38;5;28;01mNone\u001b[39;00m \u001b[38;5;129;01mand\u001b[39;00m object_hook \u001b[38;5;129;01mis\u001b[39;00m \u001b[38;5;28;01mNone\u001b[39;00m \u001b[38;5;129;01mand\u001b[39;00m\n\u001b[0;32m    344\u001b[0m         parse_int \u001b[38;5;129;01mis\u001b[39;00m \u001b[38;5;28;01mNone\u001b[39;00m \u001b[38;5;129;01mand\u001b[39;00m parse_float \u001b[38;5;129;01mis\u001b[39;00m \u001b[38;5;28;01mNone\u001b[39;00m \u001b[38;5;129;01mand\u001b[39;00m\n\u001b[0;32m    345\u001b[0m         parse_constant \u001b[38;5;129;01mis\u001b[39;00m \u001b[38;5;28;01mNone\u001b[39;00m \u001b[38;5;129;01mand\u001b[39;00m object_pairs_hook \u001b[38;5;129;01mis\u001b[39;00m \u001b[38;5;28;01mNone\u001b[39;00m \u001b[38;5;129;01mand\u001b[39;00m \u001b[38;5;129;01mnot\u001b[39;00m kw):\n\u001b[1;32m--> 346\u001b[0m     \u001b[38;5;28;01mreturn\u001b[39;00m \u001b[43m_default_decoder\u001b[49m\u001b[38;5;241;43m.\u001b[39;49m\u001b[43mdecode\u001b[49m\u001b[43m(\u001b[49m\u001b[43ms\u001b[49m\u001b[43m)\u001b[49m\n\u001b[0;32m    347\u001b[0m \u001b[38;5;28;01mif\u001b[39;00m \u001b[38;5;28mcls\u001b[39m \u001b[38;5;129;01mis\u001b[39;00m \u001b[38;5;28;01mNone\u001b[39;00m:\n\u001b[0;32m    348\u001b[0m     \u001b[38;5;28mcls\u001b[39m \u001b[38;5;241m=\u001b[39m JSONDecoder\n",
      "File \u001b[1;32m~\\AppData\\Local\\Programs\\Python\\Python311\\Lib\\json\\decoder.py:337\u001b[0m, in \u001b[0;36mJSONDecoder.decode\u001b[1;34m(self, s, _w)\u001b[0m\n\u001b[0;32m    332\u001b[0m \u001b[38;5;28;01mdef\u001b[39;00m \u001b[38;5;21mdecode\u001b[39m(\u001b[38;5;28mself\u001b[39m, s, _w\u001b[38;5;241m=\u001b[39mWHITESPACE\u001b[38;5;241m.\u001b[39mmatch):\n\u001b[0;32m    333\u001b[0m \u001b[38;5;250m    \u001b[39m\u001b[38;5;124;03m\"\"\"Return the Python representation of ``s`` (a ``str`` instance\u001b[39;00m\n\u001b[0;32m    334\u001b[0m \u001b[38;5;124;03m    containing a JSON document).\u001b[39;00m\n\u001b[0;32m    335\u001b[0m \n\u001b[0;32m    336\u001b[0m \u001b[38;5;124;03m    \"\"\"\u001b[39;00m\n\u001b[1;32m--> 337\u001b[0m     obj, end \u001b[38;5;241m=\u001b[39m \u001b[38;5;28;43mself\u001b[39;49m\u001b[38;5;241;43m.\u001b[39;49m\u001b[43mraw_decode\u001b[49m\u001b[43m(\u001b[49m\u001b[43ms\u001b[49m\u001b[43m,\u001b[49m\u001b[43m \u001b[49m\u001b[43midx\u001b[49m\u001b[38;5;241;43m=\u001b[39;49m\u001b[43m_w\u001b[49m\u001b[43m(\u001b[49m\u001b[43ms\u001b[49m\u001b[43m,\u001b[49m\u001b[43m \u001b[49m\u001b[38;5;241;43m0\u001b[39;49m\u001b[43m)\u001b[49m\u001b[38;5;241;43m.\u001b[39;49m\u001b[43mend\u001b[49m\u001b[43m(\u001b[49m\u001b[43m)\u001b[49m\u001b[43m)\u001b[49m\n\u001b[0;32m    338\u001b[0m     end \u001b[38;5;241m=\u001b[39m _w(s, end)\u001b[38;5;241m.\u001b[39mend()\n\u001b[0;32m    339\u001b[0m     \u001b[38;5;28;01mif\u001b[39;00m end \u001b[38;5;241m!=\u001b[39m \u001b[38;5;28mlen\u001b[39m(s):\n",
      "File \u001b[1;32m~\\AppData\\Local\\Programs\\Python\\Python311\\Lib\\json\\decoder.py:353\u001b[0m, in \u001b[0;36mJSONDecoder.raw_decode\u001b[1;34m(self, s, idx)\u001b[0m\n\u001b[0;32m    344\u001b[0m \u001b[38;5;250m\u001b[39m\u001b[38;5;124;03m\"\"\"Decode a JSON document from ``s`` (a ``str`` beginning with\u001b[39;00m\n\u001b[0;32m    345\u001b[0m \u001b[38;5;124;03ma JSON document) and return a 2-tuple of the Python\u001b[39;00m\n\u001b[0;32m    346\u001b[0m \u001b[38;5;124;03mrepresentation and the index in ``s`` where the document ended.\u001b[39;00m\n\u001b[1;32m   (...)\u001b[0m\n\u001b[0;32m    350\u001b[0m \n\u001b[0;32m    351\u001b[0m \u001b[38;5;124;03m\"\"\"\u001b[39;00m\n\u001b[0;32m    352\u001b[0m \u001b[38;5;28;01mtry\u001b[39;00m:\n\u001b[1;32m--> 353\u001b[0m     obj, end \u001b[38;5;241m=\u001b[39m \u001b[38;5;28;43mself\u001b[39;49m\u001b[38;5;241;43m.\u001b[39;49m\u001b[43mscan_once\u001b[49m\u001b[43m(\u001b[49m\u001b[43ms\u001b[49m\u001b[43m,\u001b[49m\u001b[43m \u001b[49m\u001b[43midx\u001b[49m\u001b[43m)\u001b[49m\n\u001b[0;32m    354\u001b[0m \u001b[38;5;28;01mexcept\u001b[39;00m \u001b[38;5;167;01mStopIteration\u001b[39;00m \u001b[38;5;28;01mas\u001b[39;00m err:\n\u001b[0;32m    355\u001b[0m     \u001b[38;5;28;01mraise\u001b[39;00m JSONDecodeError(\u001b[38;5;124m\"\u001b[39m\u001b[38;5;124mExpecting value\u001b[39m\u001b[38;5;124m\"\u001b[39m, s, err\u001b[38;5;241m.\u001b[39mvalue) \u001b[38;5;28;01mfrom\u001b[39;00m \u001b[38;5;28;01mNone\u001b[39;00m\n",
      "\u001b[1;31mJSONDecodeError\u001b[0m: Expecting property name enclosed in double quotes: line 3 column 9 (char 11)"
     ]
    }
   ],
   "source": [
    "json.loads(json_data)\n"
   ]
  },
  {
   "cell_type": "code",
   "execution_count": 52,
   "id": "4b0f4165-be20-4c2d-8127-de780a20101c",
   "metadata": {},
   "outputs": [],
   "source": [
    "json_data = '''\n",
    "[\n",
    "        [\"Hello\",\"World\"],\n",
    "        {\n",
    "        \"k1\":1,\n",
    "        \"k2\":2,\n",
    "        \"k3\":null\n",
    "        }\n",
    " ]\n",
    "'''"
   ]
  },
  {
   "cell_type": "code",
   "execution_count": 53,
   "id": "b1b154de-244f-4757-80c4-d61b42d9fa22",
   "metadata": {},
   "outputs": [
    {
     "data": {
      "text/plain": [
       "[['Hello', 'World'], {'k1': 1, 'k2': 2, 'k3': None}]"
      ]
     },
     "execution_count": 53,
     "metadata": {},
     "output_type": "execute_result"
    }
   ],
   "source": [
    "json.loads(json_data)\n"
   ]
  },
  {
   "cell_type": "code",
   "execution_count": 54,
   "id": "c4d22ea1-e53e-4745-a70e-5c1171cee538",
   "metadata": {},
   "outputs": [
    {
     "data": {
      "text/plain": [
       "(1+2j)"
      ]
     },
     "execution_count": 54,
     "metadata": {},
     "output_type": "execute_result"
    }
   ],
   "source": [
    "1+2j"
   ]
  },
  {
   "cell_type": "code",
   "execution_count": 55,
   "id": "04ee3b44-e920-4c1f-812a-1346e9908a92",
   "metadata": {},
   "outputs": [
    {
     "data": {
      "text/plain": [
       "complex"
      ]
     },
     "execution_count": 55,
     "metadata": {},
     "output_type": "execute_result"
    }
   ],
   "source": [
    "type(1+2j)"
   ]
  },
  {
   "cell_type": "code",
   "execution_count": 56,
   "id": "24ac9f50-85bb-4568-bd19-9143d2dc14d5",
   "metadata": {},
   "outputs": [],
   "source": [
    "c = 1+2j"
   ]
  },
  {
   "cell_type": "code",
   "execution_count": 57,
   "id": "c568a38b-1fba-4917-94a0-90f659686ef4",
   "metadata": {},
   "outputs": [
    {
     "data": {
      "text/plain": [
       "(1.0, 2.0)"
      ]
     },
     "execution_count": 57,
     "metadata": {},
     "output_type": "execute_result"
    }
   ],
   "source": [
    "c.real, c.imag"
   ]
  },
  {
   "cell_type": "code",
   "execution_count": 58,
   "id": "454bfab6-c8a8-4f4b-9988-b91edca54cfa",
   "metadata": {},
   "outputs": [],
   "source": [
    "def custom(n):\n",
    "    if type(n)==complex:\n",
    "        d = {\n",
    "            \"real\":n.real,\n",
    "            \"imag\":n.imag\n",
    "        }\n",
    "        return d \n",
    "    else:\n",
    "        raise TypeError "
   ]
  },
  {
   "cell_type": "code",
   "execution_count": 59,
   "id": "679d1de0-b4f3-44fc-8688-d4335a5b538d",
   "metadata": {},
   "outputs": [
    {
     "data": {
      "text/plain": [
       "{'real': 1.0, 'imag': 3.0}"
      ]
     },
     "execution_count": 59,
     "metadata": {},
     "output_type": "execute_result"
    }
   ],
   "source": [
    "custom(1+3j)"
   ]
  },
  {
   "cell_type": "markdown",
   "id": "fe11fe2b-5b2b-47d0-8c57-a2616b2879ee",
   "metadata": {},
   "source": [
    "# Please try to write your function to convert a complex number to a json object "
   ]
  },
  {
   "cell_type": "code",
   "execution_count": 60,
   "id": "b48cbe57-939c-4a46-8ca1-2ebd26062c21",
   "metadata": {},
   "outputs": [],
   "source": [
    "import json \n",
    "class Person:\n",
    "    def __init__(self,name,age):\n",
    "        self.name = name \n",
    "        self.age = age \n",
    "\n"
   ]
  },
  {
   "cell_type": "code",
   "execution_count": 61,
   "id": "e525c914-fe6d-4bf1-9d9f-b6404a9abb8e",
   "metadata": {},
   "outputs": [],
   "source": [
    "p = Person(\"Ratnesh\",20)"
   ]
  },
  {
   "cell_type": "code",
   "execution_count": 62,
   "id": "254c4230-ea20-4f32-b734-6adaf71972cb",
   "metadata": {},
   "outputs": [
    {
     "data": {
      "text/plain": [
       "{'name': 'Ratnesh', 'age': 20}"
      ]
     },
     "execution_count": 62,
     "metadata": {},
     "output_type": "execute_result"
    }
   ],
   "source": [
    "p.__dict__"
   ]
  },
  {
   "cell_type": "code",
   "execution_count": 63,
   "id": "b0bcfe44-c5c0-4fc7-820f-792f801e74cb",
   "metadata": {},
   "outputs": [
    {
     "ename": "TypeError",
     "evalue": "Object of type Person is not JSON serializable",
     "output_type": "error",
     "traceback": [
      "\u001b[1;31m---------------------------------------------------------------------------\u001b[0m",
      "\u001b[1;31mTypeError\u001b[0m                                 Traceback (most recent call last)",
      "Cell \u001b[1;32mIn[63], line 1\u001b[0m\n\u001b[1;32m----> 1\u001b[0m \u001b[43mjson\u001b[49m\u001b[38;5;241;43m.\u001b[39;49m\u001b[43mdumps\u001b[49m\u001b[43m(\u001b[49m\u001b[43mp\u001b[49m\u001b[43m)\u001b[49m\n",
      "File \u001b[1;32m~\\AppData\\Local\\Programs\\Python\\Python311\\Lib\\json\\__init__.py:231\u001b[0m, in \u001b[0;36mdumps\u001b[1;34m(obj, skipkeys, ensure_ascii, check_circular, allow_nan, cls, indent, separators, default, sort_keys, **kw)\u001b[0m\n\u001b[0;32m    226\u001b[0m \u001b[38;5;66;03m# cached encoder\u001b[39;00m\n\u001b[0;32m    227\u001b[0m \u001b[38;5;28;01mif\u001b[39;00m (\u001b[38;5;129;01mnot\u001b[39;00m skipkeys \u001b[38;5;129;01mand\u001b[39;00m ensure_ascii \u001b[38;5;129;01mand\u001b[39;00m\n\u001b[0;32m    228\u001b[0m     check_circular \u001b[38;5;129;01mand\u001b[39;00m allow_nan \u001b[38;5;129;01mand\u001b[39;00m\n\u001b[0;32m    229\u001b[0m     \u001b[38;5;28mcls\u001b[39m \u001b[38;5;129;01mis\u001b[39;00m \u001b[38;5;28;01mNone\u001b[39;00m \u001b[38;5;129;01mand\u001b[39;00m indent \u001b[38;5;129;01mis\u001b[39;00m \u001b[38;5;28;01mNone\u001b[39;00m \u001b[38;5;129;01mand\u001b[39;00m separators \u001b[38;5;129;01mis\u001b[39;00m \u001b[38;5;28;01mNone\u001b[39;00m \u001b[38;5;129;01mand\u001b[39;00m\n\u001b[0;32m    230\u001b[0m     default \u001b[38;5;129;01mis\u001b[39;00m \u001b[38;5;28;01mNone\u001b[39;00m \u001b[38;5;129;01mand\u001b[39;00m \u001b[38;5;129;01mnot\u001b[39;00m sort_keys \u001b[38;5;129;01mand\u001b[39;00m \u001b[38;5;129;01mnot\u001b[39;00m kw):\n\u001b[1;32m--> 231\u001b[0m     \u001b[38;5;28;01mreturn\u001b[39;00m \u001b[43m_default_encoder\u001b[49m\u001b[38;5;241;43m.\u001b[39;49m\u001b[43mencode\u001b[49m\u001b[43m(\u001b[49m\u001b[43mobj\u001b[49m\u001b[43m)\u001b[49m\n\u001b[0;32m    232\u001b[0m \u001b[38;5;28;01mif\u001b[39;00m \u001b[38;5;28mcls\u001b[39m \u001b[38;5;129;01mis\u001b[39;00m \u001b[38;5;28;01mNone\u001b[39;00m:\n\u001b[0;32m    233\u001b[0m     \u001b[38;5;28mcls\u001b[39m \u001b[38;5;241m=\u001b[39m JSONEncoder\n",
      "File \u001b[1;32m~\\AppData\\Local\\Programs\\Python\\Python311\\Lib\\json\\encoder.py:200\u001b[0m, in \u001b[0;36mJSONEncoder.encode\u001b[1;34m(self, o)\u001b[0m\n\u001b[0;32m    196\u001b[0m         \u001b[38;5;28;01mreturn\u001b[39;00m encode_basestring(o)\n\u001b[0;32m    197\u001b[0m \u001b[38;5;66;03m# This doesn't pass the iterator directly to ''.join() because the\u001b[39;00m\n\u001b[0;32m    198\u001b[0m \u001b[38;5;66;03m# exceptions aren't as detailed.  The list call should be roughly\u001b[39;00m\n\u001b[0;32m    199\u001b[0m \u001b[38;5;66;03m# equivalent to the PySequence_Fast that ''.join() would do.\u001b[39;00m\n\u001b[1;32m--> 200\u001b[0m chunks \u001b[38;5;241m=\u001b[39m \u001b[38;5;28;43mself\u001b[39;49m\u001b[38;5;241;43m.\u001b[39;49m\u001b[43miterencode\u001b[49m\u001b[43m(\u001b[49m\u001b[43mo\u001b[49m\u001b[43m,\u001b[49m\u001b[43m \u001b[49m\u001b[43m_one_shot\u001b[49m\u001b[38;5;241;43m=\u001b[39;49m\u001b[38;5;28;43;01mTrue\u001b[39;49;00m\u001b[43m)\u001b[49m\n\u001b[0;32m    201\u001b[0m \u001b[38;5;28;01mif\u001b[39;00m \u001b[38;5;129;01mnot\u001b[39;00m \u001b[38;5;28misinstance\u001b[39m(chunks, (\u001b[38;5;28mlist\u001b[39m, \u001b[38;5;28mtuple\u001b[39m)):\n\u001b[0;32m    202\u001b[0m     chunks \u001b[38;5;241m=\u001b[39m \u001b[38;5;28mlist\u001b[39m(chunks)\n",
      "File \u001b[1;32m~\\AppData\\Local\\Programs\\Python\\Python311\\Lib\\json\\encoder.py:258\u001b[0m, in \u001b[0;36mJSONEncoder.iterencode\u001b[1;34m(self, o, _one_shot)\u001b[0m\n\u001b[0;32m    253\u001b[0m \u001b[38;5;28;01melse\u001b[39;00m:\n\u001b[0;32m    254\u001b[0m     _iterencode \u001b[38;5;241m=\u001b[39m _make_iterencode(\n\u001b[0;32m    255\u001b[0m         markers, \u001b[38;5;28mself\u001b[39m\u001b[38;5;241m.\u001b[39mdefault, _encoder, \u001b[38;5;28mself\u001b[39m\u001b[38;5;241m.\u001b[39mindent, floatstr,\n\u001b[0;32m    256\u001b[0m         \u001b[38;5;28mself\u001b[39m\u001b[38;5;241m.\u001b[39mkey_separator, \u001b[38;5;28mself\u001b[39m\u001b[38;5;241m.\u001b[39mitem_separator, \u001b[38;5;28mself\u001b[39m\u001b[38;5;241m.\u001b[39msort_keys,\n\u001b[0;32m    257\u001b[0m         \u001b[38;5;28mself\u001b[39m\u001b[38;5;241m.\u001b[39mskipkeys, _one_shot)\n\u001b[1;32m--> 258\u001b[0m \u001b[38;5;28;01mreturn\u001b[39;00m \u001b[43m_iterencode\u001b[49m\u001b[43m(\u001b[49m\u001b[43mo\u001b[49m\u001b[43m,\u001b[49m\u001b[43m \u001b[49m\u001b[38;5;241;43m0\u001b[39;49m\u001b[43m)\u001b[49m\n",
      "File \u001b[1;32m~\\AppData\\Local\\Programs\\Python\\Python311\\Lib\\json\\encoder.py:180\u001b[0m, in \u001b[0;36mJSONEncoder.default\u001b[1;34m(self, o)\u001b[0m\n\u001b[0;32m    161\u001b[0m \u001b[38;5;28;01mdef\u001b[39;00m \u001b[38;5;21mdefault\u001b[39m(\u001b[38;5;28mself\u001b[39m, o):\n\u001b[0;32m    162\u001b[0m \u001b[38;5;250m    \u001b[39m\u001b[38;5;124;03m\"\"\"Implement this method in a subclass such that it returns\u001b[39;00m\n\u001b[0;32m    163\u001b[0m \u001b[38;5;124;03m    a serializable object for ``o``, or calls the base implementation\u001b[39;00m\n\u001b[0;32m    164\u001b[0m \u001b[38;5;124;03m    (to raise a ``TypeError``).\u001b[39;00m\n\u001b[1;32m   (...)\u001b[0m\n\u001b[0;32m    178\u001b[0m \n\u001b[0;32m    179\u001b[0m \u001b[38;5;124;03m    \"\"\"\u001b[39;00m\n\u001b[1;32m--> 180\u001b[0m     \u001b[38;5;28;01mraise\u001b[39;00m \u001b[38;5;167;01mTypeError\u001b[39;00m(\u001b[38;5;124mf\u001b[39m\u001b[38;5;124m'\u001b[39m\u001b[38;5;124mObject of type \u001b[39m\u001b[38;5;132;01m{\u001b[39;00mo\u001b[38;5;241m.\u001b[39m\u001b[38;5;18m__class__\u001b[39m\u001b[38;5;241m.\u001b[39m\u001b[38;5;18m__name__\u001b[39m\u001b[38;5;132;01m}\u001b[39;00m\u001b[38;5;124m \u001b[39m\u001b[38;5;124m'\u001b[39m\n\u001b[0;32m    181\u001b[0m                     \u001b[38;5;124mf\u001b[39m\u001b[38;5;124m'\u001b[39m\u001b[38;5;124mis not JSON serializable\u001b[39m\u001b[38;5;124m'\u001b[39m)\n",
      "\u001b[1;31mTypeError\u001b[0m: Object of type Person is not JSON serializable"
     ]
    }
   ],
   "source": [
    "json.dumps(p)"
   ]
  },
  {
   "cell_type": "code",
   "execution_count": 64,
   "id": "5787628c-f7a0-4616-834f-9c76662a44e1",
   "metadata": {},
   "outputs": [],
   "source": [
    "def custom_encoder(obj):\n",
    "    if isinstance(obj,Person):\n",
    "        return {\n",
    "            \"name\":obj.name,\n",
    "            \"age\":obj.age\n",
    "        }\n",
    "    else:\n",
    "        raise TypeError(\"Object of type Person is not JSON Serializable\")"
   ]
  },
  {
   "cell_type": "code",
   "execution_count": 65,
   "id": "2e2efccd-3fec-4836-bf8f-9c8869a6625c",
   "metadata": {},
   "outputs": [
    {
     "data": {
      "text/plain": [
       "{'name': 'Ratnesh', 'age': 20}"
      ]
     },
     "execution_count": 65,
     "metadata": {},
     "output_type": "execute_result"
    }
   ],
   "source": [
    "custom_encoder(p)"
   ]
  },
  {
   "cell_type": "code",
   "execution_count": null,
   "id": "ec0f07fb-6041-436e-bb58-087d94b74f26",
   "metadata": {},
   "outputs": [],
   "source": []
  }
 ],
 "metadata": {
  "kernelspec": {
   "display_name": "Python 3 (ipykernel)",
   "language": "python",
   "name": "python3"
  },
  "language_info": {
   "codemirror_mode": {
    "name": "ipython",
    "version": 3
   },
   "file_extension": ".py",
   "mimetype": "text/x-python",
   "name": "python",
   "nbconvert_exporter": "python",
   "pygments_lexer": "ipython3",
   "version": "3.11.5"
  }
 },
 "nbformat": 4,
 "nbformat_minor": 5
}
