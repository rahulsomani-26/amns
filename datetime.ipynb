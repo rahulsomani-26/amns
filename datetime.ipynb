{
 "cells": [
  {
   "cell_type": "markdown",
   "id": "5e60f661-4049-4c6f-95f9-af30db13ba19",
   "metadata": {},
   "source": [
    "# Dates and Times "
   ]
  },
  {
   "cell_type": "markdown",
   "id": "17b4f212-045b-413a-a63f-49eaf8fd84b4",
   "metadata": {},
   "source": [
    "# Today's agenda \n",
    " ## Working with datetime modules ( just an overview )\n",
    " ## Sending emails \n",
    " ## Sending Emails when the user registers \n",
    " ## Sending Emails with custom HTML template \n",
    " ## Working with users and groups \n",
    " ## Writing views to give permission to users \n"
   ]
  },
  {
   "cell_type": "code",
   "execution_count": 1,
   "id": "82999fef-245c-4c13-9bef-0179dbd094ce",
   "metadata": {},
   "outputs": [],
   "source": [
    "import datetime "
   ]
  },
  {
   "cell_type": "code",
   "execution_count": 2,
   "id": "b114e5aa-dd84-48a5-bb8b-7fd8dd49e728",
   "metadata": {},
   "outputs": [
    {
     "data": {
      "text/plain": [
       "module"
      ]
     },
     "execution_count": 2,
     "metadata": {},
     "output_type": "execute_result"
    }
   ],
   "source": [
    "type(datetime)"
   ]
  },
  {
   "cell_type": "code",
   "execution_count": 3,
   "id": "e3f6c0d0-31b6-4423-af7b-af0b6b444875",
   "metadata": {},
   "outputs": [
    {
     "name": "stdout",
     "output_type": "stream",
     "text": [
      "['MAXYEAR', 'MINYEAR', 'UTC', '__all__', '__builtins__', '__cached__', '__doc__', '__file__', '__loader__', '__name__', '__package__', '__spec__', 'date', 'datetime', 'datetime_CAPI', 'sys', 'time', 'timedelta', 'timezone', 'tzinfo']\n"
     ]
    }
   ],
   "source": [
    "print(dir(datetime))"
   ]
  },
  {
   "cell_type": "code",
   "execution_count": 4,
   "id": "84b3dfce-7100-48da-b9ae-d15505b01ddc",
   "metadata": {},
   "outputs": [],
   "source": [
    "constants = [ f for f in dir(datetime) if f.isupper() ]"
   ]
  },
  {
   "cell_type": "code",
   "execution_count": 5,
   "id": "6adc192b-8967-4809-a853-22a245be6cb9",
   "metadata": {},
   "outputs": [
    {
     "data": {
      "text/plain": [
       "['MAXYEAR', 'MINYEAR', 'UTC']"
      ]
     },
     "execution_count": 5,
     "metadata": {},
     "output_type": "execute_result"
    }
   ],
   "source": [
    "constants"
   ]
  },
  {
   "cell_type": "code",
   "execution_count": 6,
   "id": "a6941b45-30f5-49a6-92a3-f75660b49e93",
   "metadata": {},
   "outputs": [],
   "source": [
    "dunder = [ f for f in dir(datetime) if f.startswith('__')]"
   ]
  },
  {
   "cell_type": "code",
   "execution_count": 7,
   "id": "c78fa744-3b9c-4435-8891-c809c706117c",
   "metadata": {},
   "outputs": [
    {
     "data": {
      "text/plain": [
       "['__all__',\n",
       " '__builtins__',\n",
       " '__cached__',\n",
       " '__doc__',\n",
       " '__file__',\n",
       " '__loader__',\n",
       " '__name__',\n",
       " '__package__',\n",
       " '__spec__']"
      ]
     },
     "execution_count": 7,
     "metadata": {},
     "output_type": "execute_result"
    }
   ],
   "source": [
    "dunder"
   ]
  },
  {
   "cell_type": "code",
   "execution_count": 8,
   "id": "1862ecc7-98c8-4082-b66c-695dd20a1898",
   "metadata": {},
   "outputs": [
    {
     "data": {
      "text/plain": [
       "datetime.date"
      ]
     },
     "execution_count": 8,
     "metadata": {},
     "output_type": "execute_result"
    }
   ],
   "source": [
    "datetime.date "
   ]
  },
  {
   "cell_type": "code",
   "execution_count": 9,
   "id": "8157de65-4f0b-4c27-8bc7-b4502d39b075",
   "metadata": {},
   "outputs": [
    {
     "data": {
      "text/plain": [
       "type"
      ]
     },
     "execution_count": 9,
     "metadata": {},
     "output_type": "execute_result"
    }
   ],
   "source": [
    "type(datetime.date)"
   ]
  },
  {
   "cell_type": "code",
   "execution_count": 10,
   "id": "b85c74ac-374a-452f-aa9d-c6f1d81e14cb",
   "metadata": {},
   "outputs": [
    {
     "name": "stdout",
     "output_type": "stream",
     "text": [
      "{'__new__': <built-in method __new__ of type object at 0x00007FFF29B386B0>, '__repr__': <slot wrapper '__repr__' of 'datetime.date' objects>, '__hash__': <slot wrapper '__hash__' of 'datetime.date' objects>, '__str__': <slot wrapper '__str__' of 'datetime.date' objects>, '__getattribute__': <slot wrapper '__getattribute__' of 'datetime.date' objects>, '__lt__': <slot wrapper '__lt__' of 'datetime.date' objects>, '__le__': <slot wrapper '__le__' of 'datetime.date' objects>, '__eq__': <slot wrapper '__eq__' of 'datetime.date' objects>, '__ne__': <slot wrapper '__ne__' of 'datetime.date' objects>, '__gt__': <slot wrapper '__gt__' of 'datetime.date' objects>, '__ge__': <slot wrapper '__ge__' of 'datetime.date' objects>, '__add__': <slot wrapper '__add__' of 'datetime.date' objects>, '__radd__': <slot wrapper '__radd__' of 'datetime.date' objects>, '__sub__': <slot wrapper '__sub__' of 'datetime.date' objects>, '__rsub__': <slot wrapper '__rsub__' of 'datetime.date' objects>, 'fromtimestamp': <method 'fromtimestamp' of 'datetime.date' objects>, 'fromordinal': <method 'fromordinal' of 'datetime.date' objects>, 'fromisoformat': <method 'fromisoformat' of 'datetime.date' objects>, 'fromisocalendar': <method 'fromisocalendar' of 'datetime.date' objects>, 'today': <method 'today' of 'datetime.date' objects>, 'ctime': <method 'ctime' of 'datetime.date' objects>, 'strftime': <method 'strftime' of 'datetime.date' objects>, '__format__': <method '__format__' of 'datetime.date' objects>, 'timetuple': <method 'timetuple' of 'datetime.date' objects>, 'isocalendar': <method 'isocalendar' of 'datetime.date' objects>, 'isoformat': <method 'isoformat' of 'datetime.date' objects>, 'isoweekday': <method 'isoweekday' of 'datetime.date' objects>, 'toordinal': <method 'toordinal' of 'datetime.date' objects>, 'weekday': <method 'weekday' of 'datetime.date' objects>, 'replace': <method 'replace' of 'datetime.date' objects>, '__reduce__': <method '__reduce__' of 'datetime.date' objects>, 'year': <attribute 'year' of 'datetime.date' objects>, 'month': <attribute 'month' of 'datetime.date' objects>, 'day': <attribute 'day' of 'datetime.date' objects>, '__doc__': 'date(year, month, day) --> date object', 'min': datetime.date(1, 1, 1), 'max': datetime.date(9999, 12, 31), 'resolution': datetime.timedelta(days=1)}\t"
     ]
    }
   ],
   "source": [
    "print(datetime.date.__dict__,end='\\t')"
   ]
  },
  {
   "cell_type": "markdown",
   "id": "1cdfd8ac-9aca-4946-96d5-298c924a5c36",
   "metadata": {},
   "source": [
    "# datetime.datetime \n",
    "` class . A combination of date and a time. Attributes : year,month,day,hour,minute,second,microsecond and tzinfo `"
   ]
  },
  {
   "cell_type": "markdown",
   "id": "f097d477-5cd8-418a-87f7-71ef5d661758",
   "metadata": {},
   "source": [
    "# datetime.timedelta \n",
    "` class. A duration expressing the difference between two date,time or datetime instances to microsecond resoultion `"
   ]
  },
  {
   "cell_type": "markdown",
   "id": "57aa6265-29de-4b74-bbc2-50fce4f68c2f",
   "metadata": {},
   "source": [
    "# To get today's date "
   ]
  },
  {
   "cell_type": "code",
   "execution_count": 11,
   "id": "f8786145-8c66-481f-b976-f05f449c4334",
   "metadata": {},
   "outputs": [],
   "source": [
    "from datetime import date "
   ]
  },
  {
   "cell_type": "code",
   "execution_count": 12,
   "id": "37e3b10b-42d8-4e0c-a092-2120ee1abb98",
   "metadata": {},
   "outputs": [
    {
     "name": "stdout",
     "output_type": "stream",
     "text": [
      "['__add__', '__class__', '__delattr__', '__dir__', '__doc__', '__eq__', '__format__', '__ge__', '__getattribute__', '__getstate__', '__gt__', '__hash__', '__init__', '__init_subclass__', '__le__', '__lt__', '__ne__', '__new__', '__radd__', '__reduce__', '__reduce_ex__', '__repr__', '__rsub__', '__setattr__', '__sizeof__', '__str__', '__sub__', '__subclasshook__', 'ctime', 'day', 'fromisocalendar', 'fromisoformat', 'fromordinal', 'fromtimestamp', 'isocalendar', 'isoformat', 'isoweekday', 'max', 'min', 'month', 'replace', 'resolution', 'strftime', 'timetuple', 'today', 'toordinal', 'weekday', 'year']\n"
     ]
    }
   ],
   "source": [
    "print(dir(date))"
   ]
  },
  {
   "cell_type": "code",
   "execution_count": 13,
   "id": "108f0b0b-b52a-4e70-8a34-19e06415a0c6",
   "metadata": {},
   "outputs": [
    {
     "data": {
      "text/plain": [
       "<function date.today>"
      ]
     },
     "execution_count": 13,
     "metadata": {},
     "output_type": "execute_result"
    }
   ],
   "source": [
    "date.today"
   ]
  },
  {
   "cell_type": "code",
   "execution_count": 14,
   "id": "5a69ead2-166a-4696-81b8-439744df6986",
   "metadata": {},
   "outputs": [
    {
     "data": {
      "text/plain": [
       "datetime.date(2024, 2, 5)"
      ]
     },
     "execution_count": 14,
     "metadata": {},
     "output_type": "execute_result"
    }
   ],
   "source": [
    "date.today()"
   ]
  },
  {
   "cell_type": "code",
   "execution_count": 15,
   "id": "1635a2ca-bf06-4053-a92c-ce3a3ba48445",
   "metadata": {},
   "outputs": [
    {
     "data": {
      "text/plain": [
       "datetime.date(2024, 2, 2)"
      ]
     },
     "execution_count": 15,
     "metadata": {},
     "output_type": "execute_result"
    }
   ],
   "source": [
    "date.fromisoformat('2024-02-02')"
   ]
  },
  {
   "cell_type": "code",
   "execution_count": 16,
   "id": "dc0ab9fe-212f-4295-898b-64bc514857cf",
   "metadata": {},
   "outputs": [
    {
     "data": {
      "text/plain": [
       "datetime.date(2024, 2, 2)"
      ]
     },
     "execution_count": 16,
     "metadata": {},
     "output_type": "execute_result"
    }
   ],
   "source": [
    "date.fromisoformat('20240202')\n"
   ]
  },
  {
   "cell_type": "code",
   "execution_count": 17,
   "id": "da5de902-aa5c-4250-82bf-73d665bcf60e",
   "metadata": {},
   "outputs": [
    {
     "ename": "ValueError",
     "evalue": "Invalid isoformat string: '2024/02/02'",
     "output_type": "error",
     "traceback": [
      "\u001b[1;31m---------------------------------------------------------------------------\u001b[0m",
      "\u001b[1;31mValueError\u001b[0m                                Traceback (most recent call last)",
      "Cell \u001b[1;32mIn[17], line 1\u001b[0m\n\u001b[1;32m----> 1\u001b[0m \u001b[43mdate\u001b[49m\u001b[38;5;241;43m.\u001b[39;49m\u001b[43mfromisoformat\u001b[49m\u001b[43m(\u001b[49m\u001b[38;5;124;43m'\u001b[39;49m\u001b[38;5;124;43m2024/02/02\u001b[39;49m\u001b[38;5;124;43m'\u001b[39;49m\u001b[43m)\u001b[49m\n",
      "\u001b[1;31mValueError\u001b[0m: Invalid isoformat string: '2024/02/02'"
     ]
    }
   ],
   "source": [
    "date.fromisoformat('2024/02/02')\n"
   ]
  },
  {
   "cell_type": "code",
   "execution_count": 19,
   "id": "203bac39-9072-494e-b4a4-daf0b605b7d0",
   "metadata": {},
   "outputs": [
    {
     "data": {
      "text/plain": [
       "datetime.date(2024, 1, 23)"
      ]
     },
     "execution_count": 19,
     "metadata": {},
     "output_type": "execute_result"
    }
   ],
   "source": [
    "date.fromisoformat('2024-W04-2')"
   ]
  },
  {
   "cell_type": "code",
   "execution_count": 20,
   "id": "c8843d28-1f64-4f44-b355-a96abd1a8963",
   "metadata": {},
   "outputs": [],
   "source": [
    "from datetime import date \n",
    "d = date(day=2,month=2,year=2023)"
   ]
  },
  {
   "cell_type": "code",
   "execution_count": 21,
   "id": "17abae72-a625-4962-8b2e-f5f77dacb764",
   "metadata": {},
   "outputs": [
    {
     "data": {
      "text/plain": [
       "datetime.date(2023, 2, 2)"
      ]
     },
     "execution_count": 21,
     "metadata": {},
     "output_type": "execute_result"
    }
   ],
   "source": [
    "d"
   ]
  },
  {
   "cell_type": "code",
   "execution_count": 22,
   "id": "25ef95eb-34d4-4b2c-83f9-ef4b030d8d21",
   "metadata": {},
   "outputs": [
    {
     "data": {
      "text/plain": [
       "2"
      ]
     },
     "execution_count": 22,
     "metadata": {},
     "output_type": "execute_result"
    }
   ],
   "source": [
    "d.month"
   ]
  },
  {
   "cell_type": "code",
   "execution_count": 23,
   "id": "396b55a4-6707-4316-9491-8b21c0b07a2a",
   "metadata": {},
   "outputs": [
    {
     "data": {
      "text/plain": [
       "2"
      ]
     },
     "execution_count": 23,
     "metadata": {},
     "output_type": "execute_result"
    }
   ],
   "source": [
    "d.day"
   ]
  },
  {
   "cell_type": "code",
   "execution_count": 24,
   "id": "42dfcea8-c6f2-4ae6-b702-34074459637d",
   "metadata": {},
   "outputs": [
    {
     "data": {
      "text/plain": [
       "2023"
      ]
     },
     "execution_count": 24,
     "metadata": {},
     "output_type": "execute_result"
    }
   ],
   "source": [
    "d.year"
   ]
  },
  {
   "cell_type": "code",
   "execution_count": 25,
   "id": "d413dc8f-4d64-4b5a-9444-1e2482eb580d",
   "metadata": {},
   "outputs": [
    {
     "data": {
      "text/plain": [
       "'2023-02-02'"
      ]
     },
     "execution_count": 25,
     "metadata": {},
     "output_type": "execute_result"
    }
   ],
   "source": [
    "d.isoformat()"
   ]
  },
  {
   "cell_type": "code",
   "execution_count": 26,
   "id": "881981a1-b212-476d-9d61-f0c3fb75832b",
   "metadata": {},
   "outputs": [
    {
     "data": {
      "text/plain": [
       "<function date.strftime>"
      ]
     },
     "execution_count": 26,
     "metadata": {},
     "output_type": "execute_result"
    }
   ],
   "source": [
    "d.strftime"
   ]
  },
  {
   "cell_type": "code",
   "execution_count": 27,
   "id": "6034fbaa-126c-428b-8354-80c5a5559ee2",
   "metadata": {},
   "outputs": [
    {
     "data": {
      "text/plain": [
       "'02/02/23'"
      ]
     },
     "execution_count": 27,
     "metadata": {},
     "output_type": "execute_result"
    }
   ],
   "source": [
    "d.strftime(\"%d/%m/%y\")\n"
   ]
  },
  {
   "cell_type": "code",
   "execution_count": 28,
   "id": "76b85b51-e78f-41ff-85af-7b79d55851ae",
   "metadata": {},
   "outputs": [
    {
     "data": {
      "text/plain": [
       "'02-02-23'"
      ]
     },
     "execution_count": 28,
     "metadata": {},
     "output_type": "execute_result"
    }
   ],
   "source": [
    "d.strftime(\"%d-%m-%y\")"
   ]
  },
  {
   "cell_type": "code",
   "execution_count": 29,
   "id": "43a79834-7495-44ae-b7db-1f952ce89f8f",
   "metadata": {},
   "outputs": [
    {
     "data": {
      "text/plain": [
       "'Thursday'"
      ]
     },
     "execution_count": 29,
     "metadata": {},
     "output_type": "execute_result"
    }
   ],
   "source": [
    "d.strftime(\"%A\")"
   ]
  },
  {
   "cell_type": "code",
   "execution_count": 30,
   "id": "af4b8832-119e-4eca-b4d5-f5ebc13a9723",
   "metadata": {},
   "outputs": [
    {
     "data": {
      "text/plain": [
       "'Thu'"
      ]
     },
     "execution_count": 30,
     "metadata": {},
     "output_type": "execute_result"
    }
   ],
   "source": [
    "d.strftime(\"%a\")\n"
   ]
  },
  {
   "cell_type": "code",
   "execution_count": 31,
   "id": "47ffd4c9-3773-45a0-b339-93231185e487",
   "metadata": {},
   "outputs": [
    {
     "data": {
      "text/plain": [
       "'02'"
      ]
     },
     "execution_count": 31,
     "metadata": {},
     "output_type": "execute_result"
    }
   ],
   "source": [
    "d.strftime(\"%d\")\n"
   ]
  },
  {
   "cell_type": "code",
   "execution_count": 32,
   "id": "dd31f4db-ad7d-4631-a564-7c3b1d40dcef",
   "metadata": {},
   "outputs": [
    {
     "data": {
      "text/plain": [
       "'02/02/23'"
      ]
     },
     "execution_count": 32,
     "metadata": {},
     "output_type": "execute_result"
    }
   ],
   "source": [
    "d.strftime(\"%D\")\n"
   ]
  },
  {
   "cell_type": "code",
   "execution_count": 33,
   "id": "ceaa2b9e-21c9-4212-b238-29b328613b24",
   "metadata": {},
   "outputs": [
    {
     "data": {
      "text/plain": [
       "'Feb'"
      ]
     },
     "execution_count": 33,
     "metadata": {},
     "output_type": "execute_result"
    }
   ],
   "source": [
    "d.strftime(\"%b\")\n"
   ]
  },
  {
   "cell_type": "code",
   "execution_count": 34,
   "id": "9e25c2a2-d84d-45fa-8505-9768b4cd22bc",
   "metadata": {},
   "outputs": [
    {
     "data": {
      "text/plain": [
       "'February'"
      ]
     },
     "execution_count": 34,
     "metadata": {},
     "output_type": "execute_result"
    }
   ],
   "source": [
    "d.strftime(\"%B\")\n"
   ]
  },
  {
   "cell_type": "code",
   "execution_count": 35,
   "id": "b3af222c-12b3-43ee-ac06-230a0308f359",
   "metadata": {},
   "outputs": [
    {
     "data": {
      "text/plain": [
       "'23'"
      ]
     },
     "execution_count": 35,
     "metadata": {},
     "output_type": "execute_result"
    }
   ],
   "source": [
    "d.strftime(\"%y\")\n"
   ]
  },
  {
   "cell_type": "code",
   "execution_count": 36,
   "id": "cdba493a-1c5b-4bcf-9f15-1e557ddc4fc2",
   "metadata": {},
   "outputs": [
    {
     "data": {
      "text/plain": [
       "'2023'"
      ]
     },
     "execution_count": 36,
     "metadata": {},
     "output_type": "execute_result"
    }
   ],
   "source": [
    "d.strftime(\"%Y\")\n"
   ]
  },
  {
   "cell_type": "code",
   "execution_count": 37,
   "id": "ed49f269-4ead-4d9f-bafd-c821a0e30ca5",
   "metadata": {},
   "outputs": [
    {
     "data": {
      "text/plain": [
       "<function date.ctime>"
      ]
     },
     "execution_count": 37,
     "metadata": {},
     "output_type": "execute_result"
    }
   ],
   "source": [
    "d.ctime"
   ]
  },
  {
   "cell_type": "code",
   "execution_count": 38,
   "id": "860dcf57-02c2-4050-a3d1-c82a8edcb397",
   "metadata": {},
   "outputs": [
    {
     "name": "stdout",
     "output_type": "stream",
     "text": [
      "Help on built-in function ctime:\n",
      "\n",
      "ctime(...) method of datetime.date instance\n",
      "    Return ctime() style string.\n",
      "\n"
     ]
    }
   ],
   "source": [
    "help(d.ctime)"
   ]
  },
  {
   "cell_type": "code",
   "execution_count": 39,
   "id": "fdae97be-0489-4bf8-9f40-a2ba3c814fad",
   "metadata": {},
   "outputs": [
    {
     "data": {
      "text/plain": [
       "'Thu Feb  2 00:00:00 2023'"
      ]
     },
     "execution_count": 39,
     "metadata": {},
     "output_type": "execute_result"
    }
   ],
   "source": [
    "d.ctime()"
   ]
  },
  {
   "cell_type": "code",
   "execution_count": 40,
   "id": "7e599b67-d573-46d7-a2fe-953730c49d7f",
   "metadata": {},
   "outputs": [
    {
     "data": {
      "text/plain": [
       "'The day is 02/02/23, the month is February and Year is 2023'"
      ]
     },
     "execution_count": 40,
     "metadata": {},
     "output_type": "execute_result"
    }
   ],
   "source": [
    "'The day is {0:%D}, the month is {0:%B} and Year is {0:%Y}'.format(d,\"month\",\"month\",\"year\")"
   ]
  },
  {
   "cell_type": "code",
   "execution_count": 41,
   "id": "ef1c9f55-d51b-40af-a749-96227d21a4ee",
   "metadata": {},
   "outputs": [
    {
     "data": {
      "text/plain": [
       "'The day is 02/02/23, the month is February and Year is 2023'"
      ]
     },
     "execution_count": 41,
     "metadata": {},
     "output_type": "execute_result"
    }
   ],
   "source": [
    "'The day is {0:%D}, the month is {0:%B} and Year is {0:%Y}'.format(d,\"month\",\"day\",\"year\")\n"
   ]
  },
  {
   "cell_type": "code",
   "execution_count": 42,
   "id": "04dc94b5-136d-40af-9036-dfedc19077c1",
   "metadata": {},
   "outputs": [
    {
     "data": {
      "text/plain": [
       "'The day is 02/02/23, the month is February and Year is 2023'"
      ]
     },
     "execution_count": 42,
     "metadata": {},
     "output_type": "execute_result"
    }
   ],
   "source": [
    "'The day is {0:%D}, the month is {0:%B} and Year is {0:%Y}'.format(d,\"year\",\"month\",\"day\") \n"
   ]
  },
  {
   "cell_type": "code",
   "execution_count": null,
   "id": "abd19ea9-569b-45c4-9eb2-1c3e29c8ef0d",
   "metadata": {},
   "outputs": [],
   "source": []
  }
 ],
 "metadata": {
  "kernelspec": {
   "display_name": "Python 3 (ipykernel)",
   "language": "python",
   "name": "python3"
  },
  "language_info": {
   "codemirror_mode": {
    "name": "ipython",
    "version": 3
   },
   "file_extension": ".py",
   "mimetype": "text/x-python",
   "name": "python",
   "nbconvert_exporter": "python",
   "pygments_lexer": "ipython3",
   "version": "3.11.5"
  }
 },
 "nbformat": 4,
 "nbformat_minor": 5
}
