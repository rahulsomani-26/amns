{
 "cells": [
  {
   "cell_type": "markdown",
   "id": "063945b2-b76a-4162-8d77-7687a87e9ac0",
   "metadata": {},
   "source": [
    "# Today's Agenda:\n",
    " - Understand Template Inheritance\n",
    " - Understand Threading\n",
    " - Real time examples of Multithreading\n",
    " - Web scraping "
   ]
  },
  {
   "cell_type": "code",
   "execution_count": null,
   "id": "924cc0c7-cff4-4f4d-a26a-30dfa5f725bc",
   "metadata": {},
   "outputs": [],
   "source": []
  }
 ],
 "metadata": {
  "kernelspec": {
   "display_name": "Python 3 (ipykernel)",
   "language": "python",
   "name": "python3"
  },
  "language_info": {
   "codemirror_mode": {
    "name": "ipython",
    "version": 3
   },
   "file_extension": ".py",
   "mimetype": "text/x-python",
   "name": "python",
   "nbconvert_exporter": "python",
   "pygments_lexer": "ipython3",
   "version": "3.11.5"
  }
 },
 "nbformat": 4,
 "nbformat_minor": 5
}
